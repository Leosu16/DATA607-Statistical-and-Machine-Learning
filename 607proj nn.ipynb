{
 "cells": [
  {
   "cell_type": "code",
   "execution_count": 1,
   "id": "68d3c31e",
   "metadata": {},
   "outputs": [],
   "source": [
    "import pandas as pd\n",
    "import sklearn\n",
    "import numpy as np\n",
    "from sklearn.metrics import mean_absolute_error\n",
    "from sklearn.model_selection import train_test_split\n",
    "from sklearn.ensemble import RandomForestClassifier\n",
    "from sklearn.ensemble import RandomForestRegressor\n",
    "from sklearn.metrics import accuracy_score\n",
    "from sklearn.tree import DecisionTreeRegressor\n",
    "from sklearn.linear_model import LinearRegression\n",
    "from sklearn.preprocessing import OneHotEncoder\n",
    "from sklearn.compose import ColumnTransformer\n",
    "from sklearn.pipeline import Pipeline\n",
    "from sklearn.preprocessing import LabelEncoder\n",
    "from sklearn.preprocessing import OneHotEncoder\n",
    "from sklearn.tree import DecisionTreeRegressor\n",
    "from sklearn.tree import DecisionTreeClassifier\n",
    "from sklearn import metrics\n",
    "from sklearn.metrics import confusion_matrix\n",
    "from sklearn.preprocessing import StandardScaler\n",
    "from sklearn.metrics import r2_score\n",
    "from sklearn.metrics import RocCurveDisplay\n",
    "import datetime as dt\n",
    "from sklearn.metrics import mean_squared_error\n",
    "import seaborn as sns\n",
    "from sklearn.svm import SVC\n",
    "import matplotlib.pyplot as plt\n",
    "from sklearn import tree\n",
    "from sklearn.neural_network import MLPClassifier\n",
    "#import pydotplus\n",
    "import graphviz\n",
    "from sklearn.neural_network import MLPRegressor\n",
    "from sklearn import preprocessing\n",
    "from tqdm import tqdm, trange\n",
    "from sklearn.decomposition import PCA\n",
    "from sklearn.pipeline import make_pipeline\n",
    "from sklearn.preprocessing import StandardScaler\n",
    "from sklearn.svm import SVC\n",
    "from sklearn.metrics import accuracy_score\n",
    "from sklearn.pipeline import Pipeline\n",
    "from sklearn.metrics import accuracy_score, precision_score, recall_score, f1_score\n",
    "from sklearn.neighbors import KNeighborsClassifier\n",
    "from sklearn.pipeline import Pipeline\n",
    "from sklearn.model_selection import GridSearchCV\n",
    "#import lazypredict\n",
    "#from lazypredict.Supervised import LazyClassifier"
   ]
  },
  {
   "cell_type": "code",
   "execution_count": 2,
   "id": "5600ffd2",
   "metadata": {},
   "outputs": [],
   "source": [
    "df = pd.read_csv(\"dataset_maintenance.csv\")"
   ]
  },
  {
   "cell_type": "markdown",
   "id": "b37b8cfd",
   "metadata": {},
   "source": [
    "# Preprocessing"
   ]
  },
  {
   "cell_type": "code",
   "execution_count": 3,
   "id": "4fe677b9",
   "metadata": {},
   "outputs": [
    {
     "data": {
      "text/html": [
       "<div>\n",
       "<style scoped>\n",
       "    .dataframe tbody tr th:only-of-type {\n",
       "        vertical-align: middle;\n",
       "    }\n",
       "\n",
       "    .dataframe tbody tr th {\n",
       "        vertical-align: top;\n",
       "    }\n",
       "\n",
       "    .dataframe thead th {\n",
       "        text-align: right;\n",
       "    }\n",
       "</style>\n",
       "<table border=\"1\" class=\"dataframe\">\n",
       "  <thead>\n",
       "    <tr style=\"text-align: right;\">\n",
       "      <th></th>\n",
       "      <th>UDI</th>\n",
       "      <th>Product ID</th>\n",
       "      <th>Type</th>\n",
       "      <th>Air temperature [K]</th>\n",
       "      <th>Process temperature [K]</th>\n",
       "      <th>Rotational speed [rpm]</th>\n",
       "      <th>Torque [Nm]</th>\n",
       "      <th>Tool wear [min]</th>\n",
       "      <th>Machine failure</th>\n",
       "      <th>TWF</th>\n",
       "      <th>HDF</th>\n",
       "      <th>PWF</th>\n",
       "      <th>OSF</th>\n",
       "      <th>RNF</th>\n",
       "    </tr>\n",
       "  </thead>\n",
       "  <tbody>\n",
       "    <tr>\n",
       "      <th>0</th>\n",
       "      <td>1</td>\n",
       "      <td>M14860</td>\n",
       "      <td>M</td>\n",
       "      <td>298.1</td>\n",
       "      <td>308.6</td>\n",
       "      <td>1551</td>\n",
       "      <td>42.8</td>\n",
       "      <td>0</td>\n",
       "      <td>0</td>\n",
       "      <td>0</td>\n",
       "      <td>0</td>\n",
       "      <td>0</td>\n",
       "      <td>0</td>\n",
       "      <td>0</td>\n",
       "    </tr>\n",
       "    <tr>\n",
       "      <th>1</th>\n",
       "      <td>2</td>\n",
       "      <td>L47181</td>\n",
       "      <td>L</td>\n",
       "      <td>298.2</td>\n",
       "      <td>308.7</td>\n",
       "      <td>1408</td>\n",
       "      <td>46.3</td>\n",
       "      <td>3</td>\n",
       "      <td>0</td>\n",
       "      <td>0</td>\n",
       "      <td>0</td>\n",
       "      <td>0</td>\n",
       "      <td>0</td>\n",
       "      <td>0</td>\n",
       "    </tr>\n",
       "    <tr>\n",
       "      <th>2</th>\n",
       "      <td>3</td>\n",
       "      <td>L47182</td>\n",
       "      <td>L</td>\n",
       "      <td>298.1</td>\n",
       "      <td>308.5</td>\n",
       "      <td>1498</td>\n",
       "      <td>49.4</td>\n",
       "      <td>5</td>\n",
       "      <td>0</td>\n",
       "      <td>0</td>\n",
       "      <td>0</td>\n",
       "      <td>0</td>\n",
       "      <td>0</td>\n",
       "      <td>0</td>\n",
       "    </tr>\n",
       "    <tr>\n",
       "      <th>3</th>\n",
       "      <td>4</td>\n",
       "      <td>L47183</td>\n",
       "      <td>L</td>\n",
       "      <td>298.2</td>\n",
       "      <td>308.6</td>\n",
       "      <td>1433</td>\n",
       "      <td>39.5</td>\n",
       "      <td>7</td>\n",
       "      <td>0</td>\n",
       "      <td>0</td>\n",
       "      <td>0</td>\n",
       "      <td>0</td>\n",
       "      <td>0</td>\n",
       "      <td>0</td>\n",
       "    </tr>\n",
       "  </tbody>\n",
       "</table>\n",
       "</div>"
      ],
      "text/plain": [
       "   UDI Product ID Type  Air temperature [K]  Process temperature [K]  \\\n",
       "0    1     M14860    M                298.1                    308.6   \n",
       "1    2     L47181    L                298.2                    308.7   \n",
       "2    3     L47182    L                298.1                    308.5   \n",
       "3    4     L47183    L                298.2                    308.6   \n",
       "\n",
       "   Rotational speed [rpm]  Torque [Nm]  Tool wear [min]  Machine failure  TWF  \\\n",
       "0                    1551         42.8                0                0    0   \n",
       "1                    1408         46.3                3                0    0   \n",
       "2                    1498         49.4                5                0    0   \n",
       "3                    1433         39.5                7                0    0   \n",
       "\n",
       "   HDF  PWF  OSF  RNF  \n",
       "0    0    0    0    0  \n",
       "1    0    0    0    0  \n",
       "2    0    0    0    0  \n",
       "3    0    0    0    0  "
      ]
     },
     "execution_count": 3,
     "metadata": {},
     "output_type": "execute_result"
    }
   ],
   "source": [
    "df.head(4)"
   ]
  },
  {
   "cell_type": "code",
   "execution_count": 4,
   "id": "33c1c99e",
   "metadata": {},
   "outputs": [],
   "source": [
    "df = df.rename(columns= {\"Air temperature [K]\":\"air_temp\", \"Process temperature [K]\": \"pro_temp\", \"Rotational speed [rpm]\": \"R_speed\", \"Torque [Nm]\":\"Torque\", \"Tool wear [min]\": \"Tool_wear\", \"Machine failure\": \"Machine_failure\" })"
   ]
  },
  {
   "cell_type": "code",
   "execution_count": 5,
   "id": "bbbff619",
   "metadata": {},
   "outputs": [
    {
     "data": {
      "text/html": [
       "<div>\n",
       "<style scoped>\n",
       "    .dataframe tbody tr th:only-of-type {\n",
       "        vertical-align: middle;\n",
       "    }\n",
       "\n",
       "    .dataframe tbody tr th {\n",
       "        vertical-align: top;\n",
       "    }\n",
       "\n",
       "    .dataframe thead th {\n",
       "        text-align: right;\n",
       "    }\n",
       "</style>\n",
       "<table border=\"1\" class=\"dataframe\">\n",
       "  <thead>\n",
       "    <tr style=\"text-align: right;\">\n",
       "      <th></th>\n",
       "      <th>UDI</th>\n",
       "      <th>Product ID</th>\n",
       "      <th>Type</th>\n",
       "      <th>air_temp</th>\n",
       "      <th>pro_temp</th>\n",
       "      <th>R_speed</th>\n",
       "      <th>Torque</th>\n",
       "      <th>Tool_wear</th>\n",
       "      <th>Machine_failure</th>\n",
       "      <th>TWF</th>\n",
       "      <th>HDF</th>\n",
       "      <th>PWF</th>\n",
       "      <th>OSF</th>\n",
       "      <th>RNF</th>\n",
       "    </tr>\n",
       "  </thead>\n",
       "  <tbody>\n",
       "    <tr>\n",
       "      <th>0</th>\n",
       "      <td>1</td>\n",
       "      <td>M14860</td>\n",
       "      <td>M</td>\n",
       "      <td>298.1</td>\n",
       "      <td>308.6</td>\n",
       "      <td>1551</td>\n",
       "      <td>42.8</td>\n",
       "      <td>0</td>\n",
       "      <td>0</td>\n",
       "      <td>0</td>\n",
       "      <td>0</td>\n",
       "      <td>0</td>\n",
       "      <td>0</td>\n",
       "      <td>0</td>\n",
       "    </tr>\n",
       "    <tr>\n",
       "      <th>1</th>\n",
       "      <td>2</td>\n",
       "      <td>L47181</td>\n",
       "      <td>L</td>\n",
       "      <td>298.2</td>\n",
       "      <td>308.7</td>\n",
       "      <td>1408</td>\n",
       "      <td>46.3</td>\n",
       "      <td>3</td>\n",
       "      <td>0</td>\n",
       "      <td>0</td>\n",
       "      <td>0</td>\n",
       "      <td>0</td>\n",
       "      <td>0</td>\n",
       "      <td>0</td>\n",
       "    </tr>\n",
       "    <tr>\n",
       "      <th>2</th>\n",
       "      <td>3</td>\n",
       "      <td>L47182</td>\n",
       "      <td>L</td>\n",
       "      <td>298.1</td>\n",
       "      <td>308.5</td>\n",
       "      <td>1498</td>\n",
       "      <td>49.4</td>\n",
       "      <td>5</td>\n",
       "      <td>0</td>\n",
       "      <td>0</td>\n",
       "      <td>0</td>\n",
       "      <td>0</td>\n",
       "      <td>0</td>\n",
       "      <td>0</td>\n",
       "    </tr>\n",
       "    <tr>\n",
       "      <th>3</th>\n",
       "      <td>4</td>\n",
       "      <td>L47183</td>\n",
       "      <td>L</td>\n",
       "      <td>298.2</td>\n",
       "      <td>308.6</td>\n",
       "      <td>1433</td>\n",
       "      <td>39.5</td>\n",
       "      <td>7</td>\n",
       "      <td>0</td>\n",
       "      <td>0</td>\n",
       "      <td>0</td>\n",
       "      <td>0</td>\n",
       "      <td>0</td>\n",
       "      <td>0</td>\n",
       "    </tr>\n",
       "  </tbody>\n",
       "</table>\n",
       "</div>"
      ],
      "text/plain": [
       "   UDI Product ID Type  air_temp  pro_temp  R_speed  Torque  Tool_wear  \\\n",
       "0    1     M14860    M     298.1     308.6     1551    42.8          0   \n",
       "1    2     L47181    L     298.2     308.7     1408    46.3          3   \n",
       "2    3     L47182    L     298.1     308.5     1498    49.4          5   \n",
       "3    4     L47183    L     298.2     308.6     1433    39.5          7   \n",
       "\n",
       "   Machine_failure  TWF  HDF  PWF  OSF  RNF  \n",
       "0                0    0    0    0    0    0  \n",
       "1                0    0    0    0    0    0  \n",
       "2                0    0    0    0    0    0  \n",
       "3                0    0    0    0    0    0  "
      ]
     },
     "execution_count": 5,
     "metadata": {},
     "output_type": "execute_result"
    }
   ],
   "source": [
    "df.head(4)"
   ]
  },
  {
   "cell_type": "code",
   "execution_count": 6,
   "id": "71c70394",
   "metadata": {},
   "outputs": [],
   "source": [
    "q1_x = df[[\"Type\", \"air_temp\", \"pro_temp\", \"R_speed\", \"Torque\", \"Tool_wear\"]]"
   ]
  },
  {
   "cell_type": "code",
   "execution_count": 7,
   "id": "5e44ebfd",
   "metadata": {},
   "outputs": [
    {
     "data": {
      "text/html": [
       "<div>\n",
       "<style scoped>\n",
       "    .dataframe tbody tr th:only-of-type {\n",
       "        vertical-align: middle;\n",
       "    }\n",
       "\n",
       "    .dataframe tbody tr th {\n",
       "        vertical-align: top;\n",
       "    }\n",
       "\n",
       "    .dataframe thead th {\n",
       "        text-align: right;\n",
       "    }\n",
       "</style>\n",
       "<table border=\"1\" class=\"dataframe\">\n",
       "  <thead>\n",
       "    <tr style=\"text-align: right;\">\n",
       "      <th></th>\n",
       "      <th>Type</th>\n",
       "      <th>air_temp</th>\n",
       "      <th>pro_temp</th>\n",
       "      <th>R_speed</th>\n",
       "      <th>Torque</th>\n",
       "      <th>Tool_wear</th>\n",
       "    </tr>\n",
       "  </thead>\n",
       "  <tbody>\n",
       "    <tr>\n",
       "      <th>0</th>\n",
       "      <td>M</td>\n",
       "      <td>298.1</td>\n",
       "      <td>308.6</td>\n",
       "      <td>1551</td>\n",
       "      <td>42.8</td>\n",
       "      <td>0</td>\n",
       "    </tr>\n",
       "    <tr>\n",
       "      <th>1</th>\n",
       "      <td>L</td>\n",
       "      <td>298.2</td>\n",
       "      <td>308.7</td>\n",
       "      <td>1408</td>\n",
       "      <td>46.3</td>\n",
       "      <td>3</td>\n",
       "    </tr>\n",
       "    <tr>\n",
       "      <th>2</th>\n",
       "      <td>L</td>\n",
       "      <td>298.1</td>\n",
       "      <td>308.5</td>\n",
       "      <td>1498</td>\n",
       "      <td>49.4</td>\n",
       "      <td>5</td>\n",
       "    </tr>\n",
       "    <tr>\n",
       "      <th>3</th>\n",
       "      <td>L</td>\n",
       "      <td>298.2</td>\n",
       "      <td>308.6</td>\n",
       "      <td>1433</td>\n",
       "      <td>39.5</td>\n",
       "      <td>7</td>\n",
       "    </tr>\n",
       "  </tbody>\n",
       "</table>\n",
       "</div>"
      ],
      "text/plain": [
       "  Type  air_temp  pro_temp  R_speed  Torque  Tool_wear\n",
       "0    M     298.1     308.6     1551    42.8          0\n",
       "1    L     298.2     308.7     1408    46.3          3\n",
       "2    L     298.1     308.5     1498    49.4          5\n",
       "3    L     298.2     308.6     1433    39.5          7"
      ]
     },
     "execution_count": 7,
     "metadata": {},
     "output_type": "execute_result"
    }
   ],
   "source": [
    "q1_x.head(4)"
   ]
  },
  {
   "cell_type": "code",
   "execution_count": 8,
   "id": "7c3d1f2d",
   "metadata": {},
   "outputs": [
    {
     "data": {
      "text/html": [
       "<style>#sk-container-id-1 {color: black;background-color: white;}#sk-container-id-1 pre{padding: 0;}#sk-container-id-1 div.sk-toggleable {background-color: white;}#sk-container-id-1 label.sk-toggleable__label {cursor: pointer;display: block;width: 100%;margin-bottom: 0;padding: 0.3em;box-sizing: border-box;text-align: center;}#sk-container-id-1 label.sk-toggleable__label-arrow:before {content: \"▸\";float: left;margin-right: 0.25em;color: #696969;}#sk-container-id-1 label.sk-toggleable__label-arrow:hover:before {color: black;}#sk-container-id-1 div.sk-estimator:hover label.sk-toggleable__label-arrow:before {color: black;}#sk-container-id-1 div.sk-toggleable__content {max-height: 0;max-width: 0;overflow: hidden;text-align: left;background-color: #f0f8ff;}#sk-container-id-1 div.sk-toggleable__content pre {margin: 0.2em;color: black;border-radius: 0.25em;background-color: #f0f8ff;}#sk-container-id-1 input.sk-toggleable__control:checked~div.sk-toggleable__content {max-height: 200px;max-width: 100%;overflow: auto;}#sk-container-id-1 input.sk-toggleable__control:checked~label.sk-toggleable__label-arrow:before {content: \"▾\";}#sk-container-id-1 div.sk-estimator input.sk-toggleable__control:checked~label.sk-toggleable__label {background-color: #d4ebff;}#sk-container-id-1 div.sk-label input.sk-toggleable__control:checked~label.sk-toggleable__label {background-color: #d4ebff;}#sk-container-id-1 input.sk-hidden--visually {border: 0;clip: rect(1px 1px 1px 1px);clip: rect(1px, 1px, 1px, 1px);height: 1px;margin: -1px;overflow: hidden;padding: 0;position: absolute;width: 1px;}#sk-container-id-1 div.sk-estimator {font-family: monospace;background-color: #f0f8ff;border: 1px dotted black;border-radius: 0.25em;box-sizing: border-box;margin-bottom: 0.5em;}#sk-container-id-1 div.sk-estimator:hover {background-color: #d4ebff;}#sk-container-id-1 div.sk-parallel-item::after {content: \"\";width: 100%;border-bottom: 1px solid gray;flex-grow: 1;}#sk-container-id-1 div.sk-label:hover label.sk-toggleable__label {background-color: #d4ebff;}#sk-container-id-1 div.sk-serial::before {content: \"\";position: absolute;border-left: 1px solid gray;box-sizing: border-box;top: 0;bottom: 0;left: 50%;z-index: 0;}#sk-container-id-1 div.sk-serial {display: flex;flex-direction: column;align-items: center;background-color: white;padding-right: 0.2em;padding-left: 0.2em;position: relative;}#sk-container-id-1 div.sk-item {position: relative;z-index: 1;}#sk-container-id-1 div.sk-parallel {display: flex;align-items: stretch;justify-content: center;background-color: white;position: relative;}#sk-container-id-1 div.sk-item::before, #sk-container-id-1 div.sk-parallel-item::before {content: \"\";position: absolute;border-left: 1px solid gray;box-sizing: border-box;top: 0;bottom: 0;left: 50%;z-index: -1;}#sk-container-id-1 div.sk-parallel-item {display: flex;flex-direction: column;z-index: 1;position: relative;background-color: white;}#sk-container-id-1 div.sk-parallel-item:first-child::after {align-self: flex-end;width: 50%;}#sk-container-id-1 div.sk-parallel-item:last-child::after {align-self: flex-start;width: 50%;}#sk-container-id-1 div.sk-parallel-item:only-child::after {width: 0;}#sk-container-id-1 div.sk-dashed-wrapped {border: 1px dashed gray;margin: 0 0.4em 0.5em 0.4em;box-sizing: border-box;padding-bottom: 0.4em;background-color: white;}#sk-container-id-1 div.sk-label label {font-family: monospace;font-weight: bold;display: inline-block;line-height: 1.2em;}#sk-container-id-1 div.sk-label-container {text-align: center;}#sk-container-id-1 div.sk-container {/* jupyter's `normalize.less` sets `[hidden] { display: none; }` but bootstrap.min.css set `[hidden] { display: none !important; }` so we also need the `!important` here to be able to override the default hidden behavior on the sphinx rendered scikit-learn.org. See: https://github.com/scikit-learn/scikit-learn/issues/21755 */display: inline-block !important;position: relative;}#sk-container-id-1 div.sk-text-repr-fallback {display: none;}</style><div id=\"sk-container-id-1\" class=\"sk-top-container\"><div class=\"sk-text-repr-fallback\"><pre>LabelEncoder()</pre><b>In a Jupyter environment, please rerun this cell to show the HTML representation or trust the notebook. <br />On GitHub, the HTML representation is unable to render, please try loading this page with nbviewer.org.</b></div><div class=\"sk-container\" hidden><div class=\"sk-item\"><div class=\"sk-estimator sk-toggleable\"><input class=\"sk-toggleable__control sk-hidden--visually\" id=\"sk-estimator-id-1\" type=\"checkbox\" checked><label for=\"sk-estimator-id-1\" class=\"sk-toggleable__label sk-toggleable__label-arrow\">LabelEncoder</label><div class=\"sk-toggleable__content\"><pre>LabelEncoder()</pre></div></div></div></div></div>"
      ],
      "text/plain": [
       "LabelEncoder()"
      ]
     },
     "execution_count": 8,
     "metadata": {},
     "output_type": "execute_result"
    }
   ],
   "source": [
    "le = preprocessing.LabelEncoder()\n",
    "le.fit(q1_x.Type)"
   ]
  },
  {
   "cell_type": "code",
   "execution_count": 9,
   "id": "790a1ce4",
   "metadata": {},
   "outputs": [
    {
     "data": {
      "text/plain": [
       "array(['H', 'L', 'M'], dtype=object)"
      ]
     },
     "execution_count": 9,
     "metadata": {},
     "output_type": "execute_result"
    }
   ],
   "source": [
    "le.classes_"
   ]
  },
  {
   "cell_type": "code",
   "execution_count": 10,
   "id": "f9f20a8d",
   "metadata": {},
   "outputs": [
    {
     "name": "stderr",
     "output_type": "stream",
     "text": [
      "/var/folders/tw/1phswt6x5554j9km66dp329h0000gp/T/ipykernel_26199/2930824300.py:1: SettingWithCopyWarning: \n",
      "A value is trying to be set on a copy of a slice from a DataFrame.\n",
      "Try using .loc[row_indexer,col_indexer] = value instead\n",
      "\n",
      "See the caveats in the documentation: https://pandas.pydata.org/pandas-docs/stable/user_guide/indexing.html#returning-a-view-versus-a-copy\n",
      "  q1_x.Type = le.transform(q1_x.Type)\n"
     ]
    }
   ],
   "source": [
    "q1_x.Type = le.transform(q1_x.Type)"
   ]
  },
  {
   "cell_type": "code",
   "execution_count": 11,
   "id": "9dbabe94",
   "metadata": {},
   "outputs": [
    {
     "data": {
      "text/html": [
       "<div>\n",
       "<style scoped>\n",
       "    .dataframe tbody tr th:only-of-type {\n",
       "        vertical-align: middle;\n",
       "    }\n",
       "\n",
       "    .dataframe tbody tr th {\n",
       "        vertical-align: top;\n",
       "    }\n",
       "\n",
       "    .dataframe thead th {\n",
       "        text-align: right;\n",
       "    }\n",
       "</style>\n",
       "<table border=\"1\" class=\"dataframe\">\n",
       "  <thead>\n",
       "    <tr style=\"text-align: right;\">\n",
       "      <th></th>\n",
       "      <th>Type</th>\n",
       "      <th>air_temp</th>\n",
       "      <th>pro_temp</th>\n",
       "      <th>R_speed</th>\n",
       "      <th>Torque</th>\n",
       "      <th>Tool_wear</th>\n",
       "    </tr>\n",
       "  </thead>\n",
       "  <tbody>\n",
       "    <tr>\n",
       "      <th>0</th>\n",
       "      <td>2</td>\n",
       "      <td>298.1</td>\n",
       "      <td>308.6</td>\n",
       "      <td>1551</td>\n",
       "      <td>42.8</td>\n",
       "      <td>0</td>\n",
       "    </tr>\n",
       "    <tr>\n",
       "      <th>1</th>\n",
       "      <td>1</td>\n",
       "      <td>298.2</td>\n",
       "      <td>308.7</td>\n",
       "      <td>1408</td>\n",
       "      <td>46.3</td>\n",
       "      <td>3</td>\n",
       "    </tr>\n",
       "    <tr>\n",
       "      <th>2</th>\n",
       "      <td>1</td>\n",
       "      <td>298.1</td>\n",
       "      <td>308.5</td>\n",
       "      <td>1498</td>\n",
       "      <td>49.4</td>\n",
       "      <td>5</td>\n",
       "    </tr>\n",
       "    <tr>\n",
       "      <th>3</th>\n",
       "      <td>1</td>\n",
       "      <td>298.2</td>\n",
       "      <td>308.6</td>\n",
       "      <td>1433</td>\n",
       "      <td>39.5</td>\n",
       "      <td>7</td>\n",
       "    </tr>\n",
       "    <tr>\n",
       "      <th>4</th>\n",
       "      <td>1</td>\n",
       "      <td>298.2</td>\n",
       "      <td>308.7</td>\n",
       "      <td>1408</td>\n",
       "      <td>40.0</td>\n",
       "      <td>9</td>\n",
       "    </tr>\n",
       "    <tr>\n",
       "      <th>...</th>\n",
       "      <td>...</td>\n",
       "      <td>...</td>\n",
       "      <td>...</td>\n",
       "      <td>...</td>\n",
       "      <td>...</td>\n",
       "      <td>...</td>\n",
       "    </tr>\n",
       "    <tr>\n",
       "      <th>9995</th>\n",
       "      <td>2</td>\n",
       "      <td>298.8</td>\n",
       "      <td>308.4</td>\n",
       "      <td>1604</td>\n",
       "      <td>29.5</td>\n",
       "      <td>14</td>\n",
       "    </tr>\n",
       "    <tr>\n",
       "      <th>9996</th>\n",
       "      <td>0</td>\n",
       "      <td>298.9</td>\n",
       "      <td>308.4</td>\n",
       "      <td>1632</td>\n",
       "      <td>31.8</td>\n",
       "      <td>17</td>\n",
       "    </tr>\n",
       "    <tr>\n",
       "      <th>9997</th>\n",
       "      <td>2</td>\n",
       "      <td>299.0</td>\n",
       "      <td>308.6</td>\n",
       "      <td>1645</td>\n",
       "      <td>33.4</td>\n",
       "      <td>22</td>\n",
       "    </tr>\n",
       "    <tr>\n",
       "      <th>9998</th>\n",
       "      <td>0</td>\n",
       "      <td>299.0</td>\n",
       "      <td>308.7</td>\n",
       "      <td>1408</td>\n",
       "      <td>48.5</td>\n",
       "      <td>25</td>\n",
       "    </tr>\n",
       "    <tr>\n",
       "      <th>9999</th>\n",
       "      <td>2</td>\n",
       "      <td>299.0</td>\n",
       "      <td>308.7</td>\n",
       "      <td>1500</td>\n",
       "      <td>40.2</td>\n",
       "      <td>30</td>\n",
       "    </tr>\n",
       "  </tbody>\n",
       "</table>\n",
       "<p>10000 rows × 6 columns</p>\n",
       "</div>"
      ],
      "text/plain": [
       "      Type  air_temp  pro_temp  R_speed  Torque  Tool_wear\n",
       "0        2     298.1     308.6     1551    42.8          0\n",
       "1        1     298.2     308.7     1408    46.3          3\n",
       "2        1     298.1     308.5     1498    49.4          5\n",
       "3        1     298.2     308.6     1433    39.5          7\n",
       "4        1     298.2     308.7     1408    40.0          9\n",
       "...    ...       ...       ...      ...     ...        ...\n",
       "9995     2     298.8     308.4     1604    29.5         14\n",
       "9996     0     298.9     308.4     1632    31.8         17\n",
       "9997     2     299.0     308.6     1645    33.4         22\n",
       "9998     0     299.0     308.7     1408    48.5         25\n",
       "9999     2     299.0     308.7     1500    40.2         30\n",
       "\n",
       "[10000 rows x 6 columns]"
      ]
     },
     "execution_count": 11,
     "metadata": {},
     "output_type": "execute_result"
    }
   ],
   "source": [
    "q1_x"
   ]
  },
  {
   "cell_type": "code",
   "execution_count": 12,
   "id": "40e8783c",
   "metadata": {},
   "outputs": [],
   "source": [
    "q1_y = df[\"Machine_failure\"]"
   ]
  },
  {
   "cell_type": "markdown",
   "id": "b2db7caf",
   "metadata": {},
   "source": [
    "# Processing for Q2"
   ]
  },
  {
   "cell_type": "code",
   "execution_count": 13,
   "id": "69a8603d",
   "metadata": {},
   "outputs": [],
   "source": [
    "q2_df = df[df.Machine_failure == 1]"
   ]
  },
  {
   "cell_type": "code",
   "execution_count": 14,
   "id": "b60de45e",
   "metadata": {},
   "outputs": [
    {
     "data": {
      "text/html": [
       "<div>\n",
       "<style scoped>\n",
       "    .dataframe tbody tr th:only-of-type {\n",
       "        vertical-align: middle;\n",
       "    }\n",
       "\n",
       "    .dataframe tbody tr th {\n",
       "        vertical-align: top;\n",
       "    }\n",
       "\n",
       "    .dataframe thead th {\n",
       "        text-align: right;\n",
       "    }\n",
       "</style>\n",
       "<table border=\"1\" class=\"dataframe\">\n",
       "  <thead>\n",
       "    <tr style=\"text-align: right;\">\n",
       "      <th></th>\n",
       "      <th>UDI</th>\n",
       "      <th>Product ID</th>\n",
       "      <th>Type</th>\n",
       "      <th>air_temp</th>\n",
       "      <th>pro_temp</th>\n",
       "      <th>R_speed</th>\n",
       "      <th>Torque</th>\n",
       "      <th>Tool_wear</th>\n",
       "      <th>Machine_failure</th>\n",
       "      <th>TWF</th>\n",
       "      <th>HDF</th>\n",
       "      <th>PWF</th>\n",
       "      <th>OSF</th>\n",
       "      <th>RNF</th>\n",
       "    </tr>\n",
       "  </thead>\n",
       "  <tbody>\n",
       "    <tr>\n",
       "      <th>50</th>\n",
       "      <td>51</td>\n",
       "      <td>L47230</td>\n",
       "      <td>L</td>\n",
       "      <td>298.9</td>\n",
       "      <td>309.1</td>\n",
       "      <td>2861</td>\n",
       "      <td>4.6</td>\n",
       "      <td>143</td>\n",
       "      <td>1</td>\n",
       "      <td>0</td>\n",
       "      <td>0</td>\n",
       "      <td>1</td>\n",
       "      <td>0</td>\n",
       "      <td>0</td>\n",
       "    </tr>\n",
       "    <tr>\n",
       "      <th>69</th>\n",
       "      <td>70</td>\n",
       "      <td>L47249</td>\n",
       "      <td>L</td>\n",
       "      <td>298.9</td>\n",
       "      <td>309.0</td>\n",
       "      <td>1410</td>\n",
       "      <td>65.7</td>\n",
       "      <td>191</td>\n",
       "      <td>1</td>\n",
       "      <td>0</td>\n",
       "      <td>0</td>\n",
       "      <td>1</td>\n",
       "      <td>1</td>\n",
       "      <td>0</td>\n",
       "    </tr>\n",
       "    <tr>\n",
       "      <th>77</th>\n",
       "      <td>78</td>\n",
       "      <td>L47257</td>\n",
       "      <td>L</td>\n",
       "      <td>298.8</td>\n",
       "      <td>308.9</td>\n",
       "      <td>1455</td>\n",
       "      <td>41.3</td>\n",
       "      <td>208</td>\n",
       "      <td>1</td>\n",
       "      <td>1</td>\n",
       "      <td>0</td>\n",
       "      <td>0</td>\n",
       "      <td>0</td>\n",
       "      <td>0</td>\n",
       "    </tr>\n",
       "    <tr>\n",
       "      <th>160</th>\n",
       "      <td>161</td>\n",
       "      <td>L47340</td>\n",
       "      <td>L</td>\n",
       "      <td>298.4</td>\n",
       "      <td>308.2</td>\n",
       "      <td>1282</td>\n",
       "      <td>60.7</td>\n",
       "      <td>216</td>\n",
       "      <td>1</td>\n",
       "      <td>0</td>\n",
       "      <td>0</td>\n",
       "      <td>0</td>\n",
       "      <td>1</td>\n",
       "      <td>0</td>\n",
       "    </tr>\n",
       "    <tr>\n",
       "      <th>161</th>\n",
       "      <td>162</td>\n",
       "      <td>L47341</td>\n",
       "      <td>L</td>\n",
       "      <td>298.3</td>\n",
       "      <td>308.1</td>\n",
       "      <td>1412</td>\n",
       "      <td>52.3</td>\n",
       "      <td>218</td>\n",
       "      <td>1</td>\n",
       "      <td>0</td>\n",
       "      <td>0</td>\n",
       "      <td>0</td>\n",
       "      <td>1</td>\n",
       "      <td>0</td>\n",
       "    </tr>\n",
       "    <tr>\n",
       "      <th>...</th>\n",
       "      <td>...</td>\n",
       "      <td>...</td>\n",
       "      <td>...</td>\n",
       "      <td>...</td>\n",
       "      <td>...</td>\n",
       "      <td>...</td>\n",
       "      <td>...</td>\n",
       "      <td>...</td>\n",
       "      <td>...</td>\n",
       "      <td>...</td>\n",
       "      <td>...</td>\n",
       "      <td>...</td>\n",
       "      <td>...</td>\n",
       "      <td>...</td>\n",
       "    </tr>\n",
       "    <tr>\n",
       "      <th>9758</th>\n",
       "      <td>9759</td>\n",
       "      <td>L56938</td>\n",
       "      <td>L</td>\n",
       "      <td>298.6</td>\n",
       "      <td>309.8</td>\n",
       "      <td>2271</td>\n",
       "      <td>16.2</td>\n",
       "      <td>218</td>\n",
       "      <td>1</td>\n",
       "      <td>1</td>\n",
       "      <td>0</td>\n",
       "      <td>0</td>\n",
       "      <td>0</td>\n",
       "      <td>0</td>\n",
       "    </tr>\n",
       "    <tr>\n",
       "      <th>9764</th>\n",
       "      <td>9765</td>\n",
       "      <td>L56944</td>\n",
       "      <td>L</td>\n",
       "      <td>298.5</td>\n",
       "      <td>309.5</td>\n",
       "      <td>1294</td>\n",
       "      <td>66.7</td>\n",
       "      <td>12</td>\n",
       "      <td>1</td>\n",
       "      <td>0</td>\n",
       "      <td>0</td>\n",
       "      <td>1</td>\n",
       "      <td>0</td>\n",
       "      <td>0</td>\n",
       "    </tr>\n",
       "    <tr>\n",
       "      <th>9822</th>\n",
       "      <td>9823</td>\n",
       "      <td>L57002</td>\n",
       "      <td>L</td>\n",
       "      <td>298.5</td>\n",
       "      <td>309.4</td>\n",
       "      <td>1360</td>\n",
       "      <td>60.9</td>\n",
       "      <td>187</td>\n",
       "      <td>1</td>\n",
       "      <td>0</td>\n",
       "      <td>0</td>\n",
       "      <td>0</td>\n",
       "      <td>1</td>\n",
       "      <td>0</td>\n",
       "    </tr>\n",
       "    <tr>\n",
       "      <th>9830</th>\n",
       "      <td>9831</td>\n",
       "      <td>L57010</td>\n",
       "      <td>L</td>\n",
       "      <td>298.3</td>\n",
       "      <td>309.3</td>\n",
       "      <td>1337</td>\n",
       "      <td>56.1</td>\n",
       "      <td>206</td>\n",
       "      <td>1</td>\n",
       "      <td>0</td>\n",
       "      <td>0</td>\n",
       "      <td>0</td>\n",
       "      <td>1</td>\n",
       "      <td>0</td>\n",
       "    </tr>\n",
       "    <tr>\n",
       "      <th>9974</th>\n",
       "      <td>9975</td>\n",
       "      <td>L57154</td>\n",
       "      <td>L</td>\n",
       "      <td>298.6</td>\n",
       "      <td>308.2</td>\n",
       "      <td>1361</td>\n",
       "      <td>68.2</td>\n",
       "      <td>172</td>\n",
       "      <td>1</td>\n",
       "      <td>0</td>\n",
       "      <td>0</td>\n",
       "      <td>1</td>\n",
       "      <td>1</td>\n",
       "      <td>0</td>\n",
       "    </tr>\n",
       "  </tbody>\n",
       "</table>\n",
       "<p>339 rows × 14 columns</p>\n",
       "</div>"
      ],
      "text/plain": [
       "       UDI Product ID Type  air_temp  pro_temp  R_speed  Torque  Tool_wear  \\\n",
       "50      51     L47230    L     298.9     309.1     2861     4.6        143   \n",
       "69      70     L47249    L     298.9     309.0     1410    65.7        191   \n",
       "77      78     L47257    L     298.8     308.9     1455    41.3        208   \n",
       "160    161     L47340    L     298.4     308.2     1282    60.7        216   \n",
       "161    162     L47341    L     298.3     308.1     1412    52.3        218   \n",
       "...    ...        ...  ...       ...       ...      ...     ...        ...   \n",
       "9758  9759     L56938    L     298.6     309.8     2271    16.2        218   \n",
       "9764  9765     L56944    L     298.5     309.5     1294    66.7         12   \n",
       "9822  9823     L57002    L     298.5     309.4     1360    60.9        187   \n",
       "9830  9831     L57010    L     298.3     309.3     1337    56.1        206   \n",
       "9974  9975     L57154    L     298.6     308.2     1361    68.2        172   \n",
       "\n",
       "      Machine_failure  TWF  HDF  PWF  OSF  RNF  \n",
       "50                  1    0    0    1    0    0  \n",
       "69                  1    0    0    1    1    0  \n",
       "77                  1    1    0    0    0    0  \n",
       "160                 1    0    0    0    1    0  \n",
       "161                 1    0    0    0    1    0  \n",
       "...               ...  ...  ...  ...  ...  ...  \n",
       "9758                1    1    0    0    0    0  \n",
       "9764                1    0    0    1    0    0  \n",
       "9822                1    0    0    0    1    0  \n",
       "9830                1    0    0    0    1    0  \n",
       "9974                1    0    0    1    1    0  \n",
       "\n",
       "[339 rows x 14 columns]"
      ]
     },
     "execution_count": 14,
     "metadata": {},
     "output_type": "execute_result"
    }
   ],
   "source": [
    "q2_df"
   ]
  },
  {
   "cell_type": "code",
   "execution_count": 15,
   "id": "419b3a7b",
   "metadata": {},
   "outputs": [],
   "source": [
    "q2_x = q2_df[[\"Type\", \"air_temp\", \"pro_temp\", \"R_speed\", \"Torque\", \"Tool_wear\"]]"
   ]
  },
  {
   "cell_type": "code",
   "execution_count": 16,
   "id": "66644e6f",
   "metadata": {},
   "outputs": [
    {
     "data": {
      "text/html": [
       "<div>\n",
       "<style scoped>\n",
       "    .dataframe tbody tr th:only-of-type {\n",
       "        vertical-align: middle;\n",
       "    }\n",
       "\n",
       "    .dataframe tbody tr th {\n",
       "        vertical-align: top;\n",
       "    }\n",
       "\n",
       "    .dataframe thead th {\n",
       "        text-align: right;\n",
       "    }\n",
       "</style>\n",
       "<table border=\"1\" class=\"dataframe\">\n",
       "  <thead>\n",
       "    <tr style=\"text-align: right;\">\n",
       "      <th></th>\n",
       "      <th>Type</th>\n",
       "      <th>air_temp</th>\n",
       "      <th>pro_temp</th>\n",
       "      <th>R_speed</th>\n",
       "      <th>Torque</th>\n",
       "      <th>Tool_wear</th>\n",
       "    </tr>\n",
       "  </thead>\n",
       "  <tbody>\n",
       "    <tr>\n",
       "      <th>50</th>\n",
       "      <td>L</td>\n",
       "      <td>298.9</td>\n",
       "      <td>309.1</td>\n",
       "      <td>2861</td>\n",
       "      <td>4.6</td>\n",
       "      <td>143</td>\n",
       "    </tr>\n",
       "    <tr>\n",
       "      <th>69</th>\n",
       "      <td>L</td>\n",
       "      <td>298.9</td>\n",
       "      <td>309.0</td>\n",
       "      <td>1410</td>\n",
       "      <td>65.7</td>\n",
       "      <td>191</td>\n",
       "    </tr>\n",
       "    <tr>\n",
       "      <th>77</th>\n",
       "      <td>L</td>\n",
       "      <td>298.8</td>\n",
       "      <td>308.9</td>\n",
       "      <td>1455</td>\n",
       "      <td>41.3</td>\n",
       "      <td>208</td>\n",
       "    </tr>\n",
       "    <tr>\n",
       "      <th>160</th>\n",
       "      <td>L</td>\n",
       "      <td>298.4</td>\n",
       "      <td>308.2</td>\n",
       "      <td>1282</td>\n",
       "      <td>60.7</td>\n",
       "      <td>216</td>\n",
       "    </tr>\n",
       "  </tbody>\n",
       "</table>\n",
       "</div>"
      ],
      "text/plain": [
       "    Type  air_temp  pro_temp  R_speed  Torque  Tool_wear\n",
       "50     L     298.9     309.1     2861     4.6        143\n",
       "69     L     298.9     309.0     1410    65.7        191\n",
       "77     L     298.8     308.9     1455    41.3        208\n",
       "160    L     298.4     308.2     1282    60.7        216"
      ]
     },
     "execution_count": 16,
     "metadata": {},
     "output_type": "execute_result"
    }
   ],
   "source": [
    "q2_x.head(4)"
   ]
  },
  {
   "cell_type": "code",
   "execution_count": 17,
   "id": "4930ab0a",
   "metadata": {},
   "outputs": [],
   "source": [
    "q2_y = q2_df[[\"TWF\", \"HDF\", \"PWF\", \"OSF\", \"RNF\"]]"
   ]
  },
  {
   "cell_type": "code",
   "execution_count": 18,
   "id": "2058542e",
   "metadata": {},
   "outputs": [
    {
     "data": {
      "text/html": [
       "<div>\n",
       "<style scoped>\n",
       "    .dataframe tbody tr th:only-of-type {\n",
       "        vertical-align: middle;\n",
       "    }\n",
       "\n",
       "    .dataframe tbody tr th {\n",
       "        vertical-align: top;\n",
       "    }\n",
       "\n",
       "    .dataframe thead th {\n",
       "        text-align: right;\n",
       "    }\n",
       "</style>\n",
       "<table border=\"1\" class=\"dataframe\">\n",
       "  <thead>\n",
       "    <tr style=\"text-align: right;\">\n",
       "      <th></th>\n",
       "      <th>TWF</th>\n",
       "      <th>HDF</th>\n",
       "      <th>PWF</th>\n",
       "      <th>OSF</th>\n",
       "      <th>RNF</th>\n",
       "    </tr>\n",
       "  </thead>\n",
       "  <tbody>\n",
       "    <tr>\n",
       "      <th>50</th>\n",
       "      <td>0</td>\n",
       "      <td>0</td>\n",
       "      <td>1</td>\n",
       "      <td>0</td>\n",
       "      <td>0</td>\n",
       "    </tr>\n",
       "    <tr>\n",
       "      <th>69</th>\n",
       "      <td>0</td>\n",
       "      <td>0</td>\n",
       "      <td>1</td>\n",
       "      <td>1</td>\n",
       "      <td>0</td>\n",
       "    </tr>\n",
       "    <tr>\n",
       "      <th>77</th>\n",
       "      <td>1</td>\n",
       "      <td>0</td>\n",
       "      <td>0</td>\n",
       "      <td>0</td>\n",
       "      <td>0</td>\n",
       "    </tr>\n",
       "    <tr>\n",
       "      <th>160</th>\n",
       "      <td>0</td>\n",
       "      <td>0</td>\n",
       "      <td>0</td>\n",
       "      <td>1</td>\n",
       "      <td>0</td>\n",
       "    </tr>\n",
       "  </tbody>\n",
       "</table>\n",
       "</div>"
      ],
      "text/plain": [
       "     TWF  HDF  PWF  OSF  RNF\n",
       "50     0    0    1    0    0\n",
       "69     0    0    1    1    0\n",
       "77     1    0    0    0    0\n",
       "160    0    0    0    1    0"
      ]
     },
     "execution_count": 18,
     "metadata": {},
     "output_type": "execute_result"
    }
   ],
   "source": [
    "q2_y.head(4)"
   ]
  },
  {
   "cell_type": "code",
   "execution_count": 19,
   "id": "8ef49081",
   "metadata": {},
   "outputs": [
    {
     "data": {
      "text/html": [
       "<style>#sk-container-id-2 {color: black;background-color: white;}#sk-container-id-2 pre{padding: 0;}#sk-container-id-2 div.sk-toggleable {background-color: white;}#sk-container-id-2 label.sk-toggleable__label {cursor: pointer;display: block;width: 100%;margin-bottom: 0;padding: 0.3em;box-sizing: border-box;text-align: center;}#sk-container-id-2 label.sk-toggleable__label-arrow:before {content: \"▸\";float: left;margin-right: 0.25em;color: #696969;}#sk-container-id-2 label.sk-toggleable__label-arrow:hover:before {color: black;}#sk-container-id-2 div.sk-estimator:hover label.sk-toggleable__label-arrow:before {color: black;}#sk-container-id-2 div.sk-toggleable__content {max-height: 0;max-width: 0;overflow: hidden;text-align: left;background-color: #f0f8ff;}#sk-container-id-2 div.sk-toggleable__content pre {margin: 0.2em;color: black;border-radius: 0.25em;background-color: #f0f8ff;}#sk-container-id-2 input.sk-toggleable__control:checked~div.sk-toggleable__content {max-height: 200px;max-width: 100%;overflow: auto;}#sk-container-id-2 input.sk-toggleable__control:checked~label.sk-toggleable__label-arrow:before {content: \"▾\";}#sk-container-id-2 div.sk-estimator input.sk-toggleable__control:checked~label.sk-toggleable__label {background-color: #d4ebff;}#sk-container-id-2 div.sk-label input.sk-toggleable__control:checked~label.sk-toggleable__label {background-color: #d4ebff;}#sk-container-id-2 input.sk-hidden--visually {border: 0;clip: rect(1px 1px 1px 1px);clip: rect(1px, 1px, 1px, 1px);height: 1px;margin: -1px;overflow: hidden;padding: 0;position: absolute;width: 1px;}#sk-container-id-2 div.sk-estimator {font-family: monospace;background-color: #f0f8ff;border: 1px dotted black;border-radius: 0.25em;box-sizing: border-box;margin-bottom: 0.5em;}#sk-container-id-2 div.sk-estimator:hover {background-color: #d4ebff;}#sk-container-id-2 div.sk-parallel-item::after {content: \"\";width: 100%;border-bottom: 1px solid gray;flex-grow: 1;}#sk-container-id-2 div.sk-label:hover label.sk-toggleable__label {background-color: #d4ebff;}#sk-container-id-2 div.sk-serial::before {content: \"\";position: absolute;border-left: 1px solid gray;box-sizing: border-box;top: 0;bottom: 0;left: 50%;z-index: 0;}#sk-container-id-2 div.sk-serial {display: flex;flex-direction: column;align-items: center;background-color: white;padding-right: 0.2em;padding-left: 0.2em;position: relative;}#sk-container-id-2 div.sk-item {position: relative;z-index: 1;}#sk-container-id-2 div.sk-parallel {display: flex;align-items: stretch;justify-content: center;background-color: white;position: relative;}#sk-container-id-2 div.sk-item::before, #sk-container-id-2 div.sk-parallel-item::before {content: \"\";position: absolute;border-left: 1px solid gray;box-sizing: border-box;top: 0;bottom: 0;left: 50%;z-index: -1;}#sk-container-id-2 div.sk-parallel-item {display: flex;flex-direction: column;z-index: 1;position: relative;background-color: white;}#sk-container-id-2 div.sk-parallel-item:first-child::after {align-self: flex-end;width: 50%;}#sk-container-id-2 div.sk-parallel-item:last-child::after {align-self: flex-start;width: 50%;}#sk-container-id-2 div.sk-parallel-item:only-child::after {width: 0;}#sk-container-id-2 div.sk-dashed-wrapped {border: 1px dashed gray;margin: 0 0.4em 0.5em 0.4em;box-sizing: border-box;padding-bottom: 0.4em;background-color: white;}#sk-container-id-2 div.sk-label label {font-family: monospace;font-weight: bold;display: inline-block;line-height: 1.2em;}#sk-container-id-2 div.sk-label-container {text-align: center;}#sk-container-id-2 div.sk-container {/* jupyter's `normalize.less` sets `[hidden] { display: none; }` but bootstrap.min.css set `[hidden] { display: none !important; }` so we also need the `!important` here to be able to override the default hidden behavior on the sphinx rendered scikit-learn.org. See: https://github.com/scikit-learn/scikit-learn/issues/21755 */display: inline-block !important;position: relative;}#sk-container-id-2 div.sk-text-repr-fallback {display: none;}</style><div id=\"sk-container-id-2\" class=\"sk-top-container\"><div class=\"sk-text-repr-fallback\"><pre>LabelEncoder()</pre><b>In a Jupyter environment, please rerun this cell to show the HTML representation or trust the notebook. <br />On GitHub, the HTML representation is unable to render, please try loading this page with nbviewer.org.</b></div><div class=\"sk-container\" hidden><div class=\"sk-item\"><div class=\"sk-estimator sk-toggleable\"><input class=\"sk-toggleable__control sk-hidden--visually\" id=\"sk-estimator-id-2\" type=\"checkbox\" checked><label for=\"sk-estimator-id-2\" class=\"sk-toggleable__label sk-toggleable__label-arrow\">LabelEncoder</label><div class=\"sk-toggleable__content\"><pre>LabelEncoder()</pre></div></div></div></div></div>"
      ],
      "text/plain": [
       "LabelEncoder()"
      ]
     },
     "execution_count": 19,
     "metadata": {},
     "output_type": "execute_result"
    }
   ],
   "source": [
    "le = preprocessing.LabelEncoder()\n",
    "le.fit(q2_x.Type)"
   ]
  },
  {
   "cell_type": "code",
   "execution_count": 20,
   "id": "fd46afb5",
   "metadata": {},
   "outputs": [
    {
     "name": "stderr",
     "output_type": "stream",
     "text": [
      "/var/folders/tw/1phswt6x5554j9km66dp329h0000gp/T/ipykernel_26199/4026372269.py:1: SettingWithCopyWarning: \n",
      "A value is trying to be set on a copy of a slice from a DataFrame.\n",
      "Try using .loc[row_indexer,col_indexer] = value instead\n",
      "\n",
      "See the caveats in the documentation: https://pandas.pydata.org/pandas-docs/stable/user_guide/indexing.html#returning-a-view-versus-a-copy\n",
      "  q2_x.Type = le.transform(q2_x.Type)\n"
     ]
    }
   ],
   "source": [
    "q2_x.Type = le.transform(q2_x.Type)"
   ]
  },
  {
   "cell_type": "code",
   "execution_count": 21,
   "id": "3abae69f",
   "metadata": {},
   "outputs": [
    {
     "data": {
      "text/html": [
       "<div>\n",
       "<style scoped>\n",
       "    .dataframe tbody tr th:only-of-type {\n",
       "        vertical-align: middle;\n",
       "    }\n",
       "\n",
       "    .dataframe tbody tr th {\n",
       "        vertical-align: top;\n",
       "    }\n",
       "\n",
       "    .dataframe thead th {\n",
       "        text-align: right;\n",
       "    }\n",
       "</style>\n",
       "<table border=\"1\" class=\"dataframe\">\n",
       "  <thead>\n",
       "    <tr style=\"text-align: right;\">\n",
       "      <th></th>\n",
       "      <th>Type</th>\n",
       "      <th>air_temp</th>\n",
       "      <th>pro_temp</th>\n",
       "      <th>R_speed</th>\n",
       "      <th>Torque</th>\n",
       "      <th>Tool_wear</th>\n",
       "    </tr>\n",
       "  </thead>\n",
       "  <tbody>\n",
       "    <tr>\n",
       "      <th>50</th>\n",
       "      <td>1</td>\n",
       "      <td>298.9</td>\n",
       "      <td>309.1</td>\n",
       "      <td>2861</td>\n",
       "      <td>4.6</td>\n",
       "      <td>143</td>\n",
       "    </tr>\n",
       "    <tr>\n",
       "      <th>69</th>\n",
       "      <td>1</td>\n",
       "      <td>298.9</td>\n",
       "      <td>309.0</td>\n",
       "      <td>1410</td>\n",
       "      <td>65.7</td>\n",
       "      <td>191</td>\n",
       "    </tr>\n",
       "    <tr>\n",
       "      <th>77</th>\n",
       "      <td>1</td>\n",
       "      <td>298.8</td>\n",
       "      <td>308.9</td>\n",
       "      <td>1455</td>\n",
       "      <td>41.3</td>\n",
       "      <td>208</td>\n",
       "    </tr>\n",
       "    <tr>\n",
       "      <th>160</th>\n",
       "      <td>1</td>\n",
       "      <td>298.4</td>\n",
       "      <td>308.2</td>\n",
       "      <td>1282</td>\n",
       "      <td>60.7</td>\n",
       "      <td>216</td>\n",
       "    </tr>\n",
       "    <tr>\n",
       "      <th>161</th>\n",
       "      <td>1</td>\n",
       "      <td>298.3</td>\n",
       "      <td>308.1</td>\n",
       "      <td>1412</td>\n",
       "      <td>52.3</td>\n",
       "      <td>218</td>\n",
       "    </tr>\n",
       "    <tr>\n",
       "      <th>...</th>\n",
       "      <td>...</td>\n",
       "      <td>...</td>\n",
       "      <td>...</td>\n",
       "      <td>...</td>\n",
       "      <td>...</td>\n",
       "      <td>...</td>\n",
       "    </tr>\n",
       "    <tr>\n",
       "      <th>9758</th>\n",
       "      <td>1</td>\n",
       "      <td>298.6</td>\n",
       "      <td>309.8</td>\n",
       "      <td>2271</td>\n",
       "      <td>16.2</td>\n",
       "      <td>218</td>\n",
       "    </tr>\n",
       "    <tr>\n",
       "      <th>9764</th>\n",
       "      <td>1</td>\n",
       "      <td>298.5</td>\n",
       "      <td>309.5</td>\n",
       "      <td>1294</td>\n",
       "      <td>66.7</td>\n",
       "      <td>12</td>\n",
       "    </tr>\n",
       "    <tr>\n",
       "      <th>9822</th>\n",
       "      <td>1</td>\n",
       "      <td>298.5</td>\n",
       "      <td>309.4</td>\n",
       "      <td>1360</td>\n",
       "      <td>60.9</td>\n",
       "      <td>187</td>\n",
       "    </tr>\n",
       "    <tr>\n",
       "      <th>9830</th>\n",
       "      <td>1</td>\n",
       "      <td>298.3</td>\n",
       "      <td>309.3</td>\n",
       "      <td>1337</td>\n",
       "      <td>56.1</td>\n",
       "      <td>206</td>\n",
       "    </tr>\n",
       "    <tr>\n",
       "      <th>9974</th>\n",
       "      <td>1</td>\n",
       "      <td>298.6</td>\n",
       "      <td>308.2</td>\n",
       "      <td>1361</td>\n",
       "      <td>68.2</td>\n",
       "      <td>172</td>\n",
       "    </tr>\n",
       "  </tbody>\n",
       "</table>\n",
       "<p>339 rows × 6 columns</p>\n",
       "</div>"
      ],
      "text/plain": [
       "      Type  air_temp  pro_temp  R_speed  Torque  Tool_wear\n",
       "50       1     298.9     309.1     2861     4.6        143\n",
       "69       1     298.9     309.0     1410    65.7        191\n",
       "77       1     298.8     308.9     1455    41.3        208\n",
       "160      1     298.4     308.2     1282    60.7        216\n",
       "161      1     298.3     308.1     1412    52.3        218\n",
       "...    ...       ...       ...      ...     ...        ...\n",
       "9758     1     298.6     309.8     2271    16.2        218\n",
       "9764     1     298.5     309.5     1294    66.7         12\n",
       "9822     1     298.5     309.4     1360    60.9        187\n",
       "9830     1     298.3     309.3     1337    56.1        206\n",
       "9974     1     298.6     308.2     1361    68.2        172\n",
       "\n",
       "[339 rows x 6 columns]"
      ]
     },
     "execution_count": 21,
     "metadata": {},
     "output_type": "execute_result"
    }
   ],
   "source": [
    "q2_x"
   ]
  },
  {
   "cell_type": "markdown",
   "id": "e756e469",
   "metadata": {},
   "source": [
    "# Question 1"
   ]
  },
  {
   "cell_type": "code",
   "execution_count": 29,
   "id": "fa0e8017",
   "metadata": {},
   "outputs": [],
   "source": [
    "X_train, X_test, y_train, y_test = train_test_split(q1_x, q1_y, test_size=.2, random_state =42)"
   ]
  },
  {
   "cell_type": "code",
   "execution_count": 30,
   "id": "bf2e1e0d",
   "metadata": {},
   "outputs": [],
   "source": [
    "clf = LazyClassifier(verbose=0, ignore_warnings=True, custom_metric = None)"
   ]
  },
  {
   "cell_type": "code",
   "execution_count": 77,
   "id": "ab224517",
   "metadata": {},
   "outputs": [
    {
     "name": "stderr",
     "output_type": "stream",
     "text": [
      "100%|███████████████████████████████████████████| 28/28 [00:06<00:00,  4.61it/s]"
     ]
    },
    {
     "name": "stdout",
     "output_type": "stream",
     "text": [
      "                               Accuracy  Balanced Accuracy  ROC AUC  F1 Score  \\\n",
      "Model                                                                           \n",
      "DecisionTreeClassifier             0.98               0.84     0.84      0.98   \n",
      "XGBClassifier                      0.98               0.83     0.83      0.98   \n",
      "BaggingClassifier                  0.99               0.83     0.83      0.99   \n",
      "RandomForestClassifier             0.98               0.79     0.79      0.98   \n",
      "NearestCentroid                    0.72               0.77     0.77      0.81   \n",
      "AdaBoostClassifier                 0.98               0.74     0.74      0.98   \n",
      "LabelSpreading                     0.98               0.73     0.73      0.97   \n",
      "LabelPropagation                   0.97               0.73     0.73      0.97   \n",
      "ExtraTreeClassifier                0.97               0.73     0.73      0.97   \n",
      "PassiveAggressiveClassifier        0.96               0.72     0.72      0.96   \n",
      "ExtraTreesClassifier               0.98               0.71     0.71      0.98   \n",
      "Perceptron                         0.91               0.70     0.70      0.93   \n",
      "LinearDiscriminantAnalysis         0.97               0.69     0.69      0.97   \n",
      "KNeighborsClassifier               0.98               0.69     0.69      0.98   \n",
      "QuadraticDiscriminantAnalysis      0.96               0.66     0.66      0.96   \n",
      "SVC                                0.98               0.65     0.65      0.97   \n",
      "LogisticRegression                 0.97               0.63     0.63      0.97   \n",
      "CalibratedClassifierCV             0.97               0.62     0.62      0.97   \n",
      "GaussianNB                         0.96               0.60     0.60      0.96   \n",
      "LinearSVC                          0.97               0.56     0.56      0.96   \n",
      "SGDClassifier                      0.97               0.52     0.52      0.96   \n",
      "DummyClassifier                    0.97               0.50     0.50      0.95   \n",
      "BernoulliNB                        0.97               0.50     0.50      0.95   \n",
      "RidgeClassifier                    0.97               0.50     0.50      0.95   \n",
      "RidgeClassifierCV                  0.97               0.50     0.50      0.95   \n",
      "\n",
      "                               Time Taken  \n",
      "Model                                      \n",
      "DecisionTreeClassifier               0.03  \n",
      "XGBClassifier                        0.16  \n",
      "BaggingClassifier                    0.13  \n",
      "RandomForestClassifier               0.59  \n",
      "NearestCentroid                      0.01  \n",
      "AdaBoostClassifier                   0.22  \n",
      "LabelSpreading                       2.17  \n",
      "LabelPropagation                     1.34  \n",
      "ExtraTreeClassifier                  0.01  \n",
      "PassiveAggressiveClassifier          0.01  \n",
      "ExtraTreesClassifier                 0.28  \n",
      "Perceptron                           0.02  \n",
      "LinearDiscriminantAnalysis           0.02  \n",
      "KNeighborsClassifier                 0.07  \n",
      "QuadraticDiscriminantAnalysis        0.01  \n",
      "SVC                                  0.30  \n",
      "LogisticRegression                   0.02  \n",
      "CalibratedClassifierCV               0.45  \n",
      "GaussianNB                           0.01  \n",
      "LinearSVC                            0.12  \n",
      "SGDClassifier                        0.02  \n",
      "DummyClassifier                      0.01  \n",
      "BernoulliNB                          0.02  \n",
      "RidgeClassifier                      0.01  \n",
      "RidgeClassifierCV                    0.02  \n"
     ]
    },
    {
     "name": "stderr",
     "output_type": "stream",
     "text": [
      "\n"
     ]
    }
   ],
   "source": [
    "models,predictions = clf.fit(X_train, X_test, y_train, y_test)\n",
    "print(models)"
   ]
  },
  {
   "cell_type": "markdown",
   "id": "fdf90ded",
   "metadata": {},
   "source": [
    "# Tree Method"
   ]
  },
  {
   "cell_type": "code",
   "execution_count": 111,
   "id": "79f65790",
   "metadata": {},
   "outputs": [
    {
     "name": "stderr",
     "output_type": "stream",
     "text": [
      "100%|█████████████████████████████████████████| 200/200 [00:25<00:00,  7.88it/s]"
     ]
    },
    {
     "name": "stdout",
     "output_type": "stream",
     "text": [
      "Optimal Degree is 10\n"
     ]
    },
    {
     "name": "stderr",
     "output_type": "stream",
     "text": [
      "\n"
     ]
    },
    {
     "data": {
      "text/plain": [
       "[<matplotlib.lines.Line2D at 0x7fb9c1614460>]"
      ]
     },
     "execution_count": 111,
     "metadata": {},
     "output_type": "execute_result"
    },
    {
     "data": {
      "image/png": "[encoded data removed]",
      "text/plain": [
       "<Figure size 432x288 with 1 Axes>"
      ]
     },
     "metadata": {
      "needs_background": "light"
     },
     "output_type": "display_data"
    }
   ],
   "source": [
    "ks = np.arange(6,20, 2)\n",
    "n_repeats = 200\n",
    "accs_val = np.zeros((n_repeats, len(ks)))\n",
    "criteria = \"gini\" \n",
    "max_depth = 6 \n",
    "min_sample_leaf = 4\n",
    "\n",
    "for i in tqdm(range(n_repeats)):\n",
    "    X_train, X_test, y_train, y_test = train_test_split(q1_x, q1_y, test_size=.2)\n",
    "    for j, k in enumerate(ks):\n",
    "        clf_gini = DecisionTreeClassifier(criterion=criteria, random_state=100,\n",
    "                                max_depth=k, min_samples_leaf=min_sample_leaf)\n",
    "        clf_gini.fit(X_train, y_train)\n",
    "        accs_val[i, j] = mean_squared_error(y_test, clf_gini.predict(X_test))\n",
    "# Find optimal degree\n",
    "scores = accs_val.mean(axis=0)\n",
    "k = ks[np.argmin(scores)]\n",
    "print(\"Optimal Degree is\",k)\n",
    "\n",
    "plt.plot(ks, scores)"
   ]
  },
  {
   "cell_type": "code",
   "execution_count": 128,
   "id": "95b8b7af",
   "metadata": {},
   "outputs": [
    {
     "name": "stdout",
     "output_type": "stream",
     "text": [
      "training score : 0.990875\n"
     ]
    }
   ],
   "source": [
    "# to build a tree, we could use 'gini' or 'entropy' as split criterion at each node. \n",
    "# here we use an example use 'gini' and with a few other hyperparameters.\n",
    "criteria = \"gini\" \n",
    "max_depth = 10\n",
    "min_sample_leaf = 4\n",
    "clf_gini = DecisionTreeClassifier(criterion=criteria, random_state=100,\n",
    "                                max_depth=max_depth, min_samples_leaf=min_sample_leaf)\n",
    "clf_gini.fit(X_train, y_train)\n",
    "y_pred = clf_gini.predict(X_test)\n",
    "print(\"training score :\",clf_gini.score(X_train, y_train))"
   ]
  },
  {
   "cell_type": "code",
   "execution_count": 126,
   "id": "2ab7c237",
   "metadata": {},
   "outputs": [
    {
     "data": {
      "text/plain": [
       "array([[1919,   10],\n",
       "       [  30,   41]])"
      ]
     },
     "execution_count": 126,
     "metadata": {},
     "output_type": "execute_result"
    }
   ],
   "source": [
    "cm = confusion_matrix(y_test, y_pred)\n",
    "cm"
   ]
  },
  {
   "cell_type": "code",
   "execution_count": 127,
   "id": "83bae864",
   "metadata": {},
   "outputs": [
    {
     "name": "stdout",
     "output_type": "stream",
     "text": [
      "accuracy = 0.98\n",
      "precision = 0.8942645298242438\n",
      "recall = 0.7861403777772911\n",
      "f1 = 0.8309082761944218\n"
     ]
    }
   ],
   "source": [
    "accuracy = accuracy_score(y_test, y_pred)\n",
    "precision = precision_score(y_test, y_pred, average='macro')\n",
    "recall = recall_score(y_test, y_pred, average='macro')\n",
    "f1 = f1_score(y_test, y_pred, average='macro')\n",
    "print(\"accuracy = \" + str(accuracy))\n",
    "print(\"precision = \" + str(precision))\n",
    "print(\"recall = \" + str(recall))\n",
    "print(\"f1 = \" + str(f1))"
   ]
  },
  {
   "cell_type": "markdown",
   "id": "86eb41a6",
   "metadata": {},
   "source": [
    "# SVC"
   ]
  },
  {
   "cell_type": "code",
   "execution_count": 133,
   "id": "c290afca",
   "metadata": {},
   "outputs": [
    {
     "name": "stderr",
     "output_type": "stream",
     "text": [
      "100%|█████████████████████████████████████████| 200/200 [07:00<00:00,  2.10s/it]\n"
     ]
    }
   ],
   "source": [
    "# ks = np.arange(6,20, 2)\n",
    "n_repeats = 200\n",
    "# accs_val = np.zeros((n_repeats, len(ks)))\n",
    "kernels =['poly', 'sigmoid', 'linear', 'rbf']\n",
    "counter = {}\n",
    "#initializing kernels in dict\n",
    "for i in kernels: \n",
    "    counter[i] = 0\n",
    "    \n",
    "for i in tqdm(range(n_repeats)):\n",
    "    X_train, X_test, y_train, y_test = train_test_split(q1_x, q1_y, test_size=.2)\n",
    "    tmplist = []\n",
    "    tmpdict = {}\n",
    "    for j, k in enumerate(kernels):\n",
    "        svm_pipeline = Pipeline([('scaler', StandardScaler()),('pca', PCA(n_components=2)),\n",
    "                                 ('svm', SVC(kernel=k, C=1.0, random_state=42))])\n",
    "        # Fit the pipeline to the training data\n",
    "        svm_pipeline.fit(X_train, y_train)\n",
    "        tmplist.append(mean_squared_error(y_test, svm_pipeline.predict(X_test)))\n",
    "        tmpdict[k] = mean_squared_error(y_test, svm_pipeline.predict(X_test))\n",
    "    for kernel, value in tmpdict.items():\n",
    "        if value <= min(tmplist): \n",
    "            counter[kernel] +=1"
   ]
  },
  {
   "cell_type": "code",
   "execution_count": 134,
   "id": "13dad6a9",
   "metadata": {},
   "outputs": [
    {
     "data": {
      "image/png": "[encoded data removed]",
      "text/plain": [
       "<Figure size 432x288 with 1 Axes>"
      ]
     },
     "metadata": {
      "needs_background": "light"
     },
     "output_type": "display_data"
    }
   ],
   "source": [
    "import matplotlib.pyplot as plt\n",
    "\n",
    "names = list(counter.keys())\n",
    "values = list(counter.values())\n",
    "\n",
    "plt.bar(range(len(counter)), values, tick_label=names)\n",
    "plt.show()"
   ]
  },
  {
   "cell_type": "code",
   "execution_count": 135,
   "id": "196b059c",
   "metadata": {},
   "outputs": [],
   "source": [
    "# Create a pipeline\n",
    "\n",
    "svm_pipeline = Pipeline([\n",
    "    ('scaler', StandardScaler()),\n",
    "    ('pca', PCA(n_components=2)),\n",
    "    ('svm', SVC(kernel='rbf', C=1.0, random_state=42))\n",
    "])\n",
    "# Fit the pipeline to the training data\n",
    "svm_pipeline.fit(X_train, y_train)\n",
    "# Make predictions on the testing data\n",
    "y_pred = svm_pipeline.predict(X_test)"
   ]
  },
  {
   "cell_type": "code",
   "execution_count": 136,
   "id": "abc4d191",
   "metadata": {},
   "outputs": [
    {
     "name": "stdout",
     "output_type": "stream",
     "text": [
      "accuracy = 0.9685\n",
      "precision = 0.8846733668341709\n",
      "recall = 0.5574531481022824\n",
      "f1 = 0.5932321579034023\n"
     ]
    }
   ],
   "source": [
    "accuracy = accuracy_score(y_test, y_pred)\n",
    "precision = precision_score(y_test, y_pred, average='macro')\n",
    "recall = recall_score(y_test, y_pred, average='macro')\n",
    "f1 = f1_score(y_test, y_pred, average='macro')\n",
    "print(\"accuracy = \" + str(accuracy))\n",
    "print(\"precision = \" + str(precision))\n",
    "print(\"recall = \" + str(recall))\n",
    "print(\"f1 = \" + str(f1))"
   ]
  },
  {
   "cell_type": "markdown",
   "id": "281ee2ba",
   "metadata": {},
   "source": [
    "## Focusing on this random_state=42"
   ]
  },
  {
   "cell_type": "code",
   "execution_count": null,
   "id": "86134b30",
   "metadata": {},
   "outputs": [
    {
     "name": "stdout",
     "output_type": "stream",
     "text": [
      "Fitting 5 folds for each of 84 candidates, totalling 420 fits\n"
     ]
    }
   ],
   "source": [
    "X_train, X_test, y_train, y_test = train_test_split(q1_x, q1_y, test_size=.2, random_state= 42)\n",
    "# Create a pipeline\n",
    "svm_pipeline = Pipeline([\n",
    "    ('scaler', StandardScaler()),\n",
    "    ('pca', PCA(n_components=2)),\n",
    "    ('svm', SVC())\n",
    "])\n",
    "\n",
    "# Define the hyperparameters for grid search\n",
    "params = {\n",
    "    'svm__kernel': kernels,\n",
    "    'svm__C': [0.001, 0.01, 0.1, 1, 10, 100, 1000],\n",
    "#     'svm__gamma': [0.1, 1, 10]\n",
    "}\n",
    "\n",
    "# Perform grid search with cross-validation\n",
    "svm_gridsearch = GridSearchCV(svm_pipeline, params, cv=5, verbose=1)\n",
    "svm_gridsearch.fit(X_train, y_train)"
   ]
  },
  {
   "cell_type": "code",
   "execution_count": null,
   "id": "786728c5",
   "metadata": {},
   "outputs": [],
   "source": [
    "print(\"Best parameters:\", grid.best_params_)\n",
    "print(\"Accuracy = \",accuracy_score(y_test, grid.predict(X_test)))"
   ]
  },
  {
   "cell_type": "code",
   "execution_count": null,
   "id": "59941355",
   "metadata": {},
   "outputs": [],
   "source": []
  },
  {
   "cell_type": "markdown",
   "id": "a9547be7",
   "metadata": {},
   "source": [
    "# KNN"
   ]
  },
  {
   "cell_type": "code",
   "execution_count": 48,
   "id": "c4114bc2",
   "metadata": {},
   "outputs": [
    {
     "name": "stderr",
     "output_type": "stream",
     "text": [
      "100%|█████████████████████████████████████████| 200/200 [04:48<00:00,  1.44s/it]"
     ]
    },
    {
     "name": "stdout",
     "output_type": "stream",
     "text": [
      "9\n"
     ]
    },
    {
     "name": "stderr",
     "output_type": "stream",
     "text": [
      "\n"
     ]
    },
    {
     "data": {
      "text/plain": [
       "[<matplotlib.lines.Line2D at 0x7fa3a0cbaf10>]"
      ]
     },
     "execution_count": 48,
     "metadata": {},
     "output_type": "execute_result"
    },
    {
     "data": {
      "image/png": "[encoded data removed]",
      "text/plain": [
       "<Figure size 432x288 with 1 Axes>"
      ]
     },
     "metadata": {
      "needs_background": "light"
     },
     "output_type": "display_data"
    }
   ],
   "source": [
    "ks = np.arange(1, 50, 2)\n",
    "\n",
    "n_repeats = 200\n",
    "accs_val = np.zeros((n_repeats, len(ks)))\n",
    "\n",
    "for i in tqdm(range(n_repeats)):\n",
    "    X_train, X_test, y_train, y_test = train_test_split(q1_x, q1_y, test_size=.2)\n",
    "    for j, k in enumerate(ks):\n",
    "        model = KNeighborsClassifier(n_neighbors=k)\n",
    "        model.fit(X_train, y_train)\n",
    "        accs_val[i, j] = accuracy_score(y_test, model.predict(X_test))\n",
    "\n",
    "scores = accs_val.mean(axis=0)\n",
    "k = ks[np.argmax(scores)]\n",
    "print(k)\n",
    "\n",
    "plt.plot(ks, scores)"
   ]
  },
  {
   "cell_type": "code",
   "execution_count": null,
   "id": "2c73b528",
   "metadata": {},
   "outputs": [],
   "source": [
    "model = KNeighborsClassifier(n_neighbors=10)\n",
    "model.fit(X_train, y_train)\n",
    "y_pred = model.predict(X_test)"
   ]
  },
  {
   "cell_type": "code",
   "execution_count": null,
   "id": "cdb8393d",
   "metadata": {},
   "outputs": [],
   "source": [
    "cm = confusion_matrix(y_test, y_pred)\n",
    "cm"
   ]
  },
  {
   "cell_type": "code",
   "execution_count": null,
   "id": "db3a1993",
   "metadata": {},
   "outputs": [],
   "source": [
    "accuracy = accuracy_score(y_test, y_pred)\n",
    "precision = precision_score(y_test, y_pred, average='macro')\n",
    "recall = recall_score(y_test, y_pred, average='macro')\n",
    "f1 = f1_score(y_test, y_pred, average='macro')\n",
    "print(\"accuracy = \" + str(accuracy))\n",
    "print(\"precision = \" + str(precision))\n",
    "print(\"recall = \" + str(recall))\n",
    "print(\"f1 = \" + str(f1))"
   ]
  },
  {
   "cell_type": "code",
   "execution_count": null,
   "id": "88dc7538",
   "metadata": {},
   "outputs": [],
   "source": []
  },
  {
   "cell_type": "markdown",
   "id": "1c13374a",
   "metadata": {},
   "source": [
    "# Question 2"
   ]
  },
  {
   "cell_type": "code",
   "execution_count": 25,
   "id": "4d14c376",
   "metadata": {},
   "outputs": [
    {
     "data": {
      "text/plain": [
       "Index(['TWF', 'HDF', 'PWF', 'OSF', 'RNF'], dtype='object')"
      ]
     },
     "execution_count": 25,
     "metadata": {},
     "output_type": "execute_result"
    }
   ],
   "source": [
    "q2_y.columns"
   ]
  },
  {
   "cell_type": "code",
   "execution_count": 43,
   "id": "3eca3e18",
   "metadata": {},
   "outputs": [
    {
     "name": "stdout",
     "output_type": "stream",
     "text": [
      "TWF 46\n",
      "HDF 115\n",
      "PWF 95\n",
      "OSF 98\n",
      "RNF 1\n"
     ]
    }
   ],
   "source": [
    "for i in q2_y.columns: \n",
    "    amount= q2_y[q2_y[i] == 1]\n",
    "    print(i,' :', len(amount))"
   ]
  },
  {
   "cell_type": "markdown",
   "id": "75a8c0fe",
   "metadata": {},
   "source": [
    "## We do not have enough data to classify RNF "
   ]
  },
  {
   "cell_type": "code",
   "execution_count": 44,
   "id": "513adb28",
   "metadata": {},
   "outputs": [
    {
     "name": "stdout",
     "output_type": "stream",
     "text": [
      "'tuple' object has no attribute '__name__'\n",
      "Invalid Classifier(s)\n"
     ]
    },
    {
     "name": "stderr",
     "output_type": "stream",
     "text": [
      "100%|███████████████████████████████████████████| 28/28 [00:00<00:00, 36.97it/s]"
     ]
    },
    {
     "name": "stdout",
     "output_type": "stream",
     "text": [
      "                               Accuracy  Balanced Accuracy  ROC AUC  F1 Score  \\\n",
      "Model                                                                           \n",
      "XGBClassifier                      0.99               0.97     0.97      0.99   \n",
      "Perceptron                         0.90               0.91     0.91      0.90   \n",
      "CalibratedClassifierCV             0.94               0.89     0.89      0.94   \n",
      "SGDClassifier                      0.94               0.89     0.89      0.94   \n",
      "LinearSVC                          0.94               0.89     0.89      0.94   \n",
      "BaggingClassifier                  0.94               0.87     0.87      0.94   \n",
      "DecisionTreeClassifier             0.94               0.87     0.87      0.94   \n",
      "RandomForestClassifier             0.94               0.87     0.87      0.94   \n",
      "ExtraTreesClassifier               0.94               0.87     0.87      0.94   \n",
      "SVC                                0.93               0.86     0.86      0.92   \n",
      "AdaBoostClassifier                 0.93               0.86     0.86      0.92   \n",
      "KNeighborsClassifier               0.93               0.86     0.86      0.92   \n",
      "ExtraTreeClassifier                0.93               0.86     0.86      0.92   \n",
      "QuadraticDiscriminantAnalysis      0.87               0.84     0.84      0.87   \n",
      "PassiveAggressiveClassifier        0.90               0.84     0.84      0.90   \n",
      "BernoulliNB                        0.90               0.81     0.81      0.89   \n",
      "GaussianNB                         0.85               0.81     0.81      0.86   \n",
      "LinearDiscriminantAnalysis         0.88               0.81     0.81      0.88   \n",
      "LogisticRegression                 0.90               0.79     0.79      0.89   \n",
      "NearestCentroid                    0.71               0.79     0.79      0.73   \n",
      "LabelSpreading                     0.88               0.76     0.76      0.87   \n",
      "LabelPropagation                   0.88               0.76     0.76      0.87   \n",
      "RidgeClassifier                    0.81               0.57     0.57      0.75   \n",
      "RidgeClassifierCV                  0.81               0.57     0.57      0.75   \n",
      "DummyClassifier                    0.78               0.50     0.50      0.68   \n",
      "\n",
      "                               Time Taken  \n",
      "Model                                      \n",
      "XGBClassifier                        0.05  \n",
      "Perceptron                           0.01  \n",
      "CalibratedClassifierCV               0.04  \n",
      "SGDClassifier                        0.01  \n",
      "LinearSVC                            0.01  \n",
      "BaggingClassifier                    0.03  \n",
      "DecisionTreeClassifier               0.01  \n",
      "RandomForestClassifier               0.13  \n",
      "ExtraTreesClassifier                 0.19  \n",
      "SVC                                  0.01  \n",
      "AdaBoostClassifier                   0.10  \n",
      "KNeighborsClassifier                 0.01  \n",
      "ExtraTreeClassifier                  0.01  \n",
      "QuadraticDiscriminantAnalysis        0.01  \n",
      "PassiveAggressiveClassifier          0.01  \n",
      "BernoulliNB                          0.01  \n",
      "GaussianNB                           0.01  \n",
      "LinearDiscriminantAnalysis           0.01  \n",
      "LogisticRegression                   0.01  \n",
      "NearestCentroid                      0.01  \n",
      "LabelSpreading                       0.01  \n",
      "LabelPropagation                     0.01  \n",
      "RidgeClassifier                      0.01  \n",
      "RidgeClassifierCV                    0.01  \n",
      "DummyClassifier                      0.01  \n"
     ]
    },
    {
     "name": "stderr",
     "output_type": "stream",
     "text": [
      "\n"
     ]
    }
   ],
   "source": [
    "#TWF\n",
    "X_train, X_test, y_train, y_test = train_test_split(q2_x, q2_y[\"TWF\"], test_size=.2, random_state =42)\n",
    "models,predictions = clf.fit(X_train, X_test, y_train, y_test)\n",
    "print(models)"
   ]
  },
  {
   "cell_type": "code",
   "execution_count": 27,
   "id": "af7da2ed",
   "metadata": {},
   "outputs": [],
   "source": []
  },
  {
   "cell_type": "code",
   "execution_count": 33,
   "id": "419ca96a",
   "metadata": {},
   "outputs": [
    {
     "name": "stdout",
     "output_type": "stream",
     "text": [
      "'tuple' object has no attribute '__name__'\n",
      "Invalid Classifier(s)\n"
     ]
    },
    {
     "name": "stderr",
     "output_type": "stream",
     "text": [
      "100%|███████████████████████████████████████████| 28/28 [00:00<00:00, 36.16it/s]"
     ]
    },
    {
     "name": "stdout",
     "output_type": "stream",
     "text": [
      "                               Accuracy  Balanced Accuracy  ROC AUC  F1 Score  \\\n",
      "Model                                                                           \n",
      "AdaBoostClassifier                 0.97               0.98     0.98      0.97   \n",
      "XGBClassifier                      0.97               0.98     0.98      0.97   \n",
      "BaggingClassifier                  0.99               0.98     0.98      0.99   \n",
      "RandomForestClassifier             0.99               0.98     0.98      0.99   \n",
      "LinearSVC                          0.96               0.97     0.97      0.96   \n",
      "PassiveAggressiveClassifier        0.96               0.97     0.97      0.96   \n",
      "DecisionTreeClassifier             0.97               0.97     0.97      0.97   \n",
      "SGDClassifier                      0.94               0.96     0.96      0.94   \n",
      "GaussianNB                         0.94               0.96     0.96      0.94   \n",
      "QuadraticDiscriminantAnalysis      0.94               0.96     0.96      0.94   \n",
      "CalibratedClassifierCV             0.94               0.96     0.96      0.94   \n",
      "ExtraTreesClassifier               0.96               0.95     0.95      0.96   \n",
      "LogisticRegression                 0.94               0.94     0.94      0.94   \n",
      "SVC                                0.96               0.94     0.94      0.96   \n",
      "KNeighborsClassifier               0.93               0.93     0.93      0.93   \n",
      "RidgeClassifier                    0.90               0.93     0.93      0.90   \n",
      "RidgeClassifierCV                  0.90               0.93     0.93      0.90   \n",
      "LabelSpreading                     0.91               0.92     0.92      0.91   \n",
      "LabelPropagation                   0.91               0.92     0.92      0.91   \n",
      "Perceptron                         0.93               0.92     0.92      0.93   \n",
      "LinearDiscriminantAnalysis         0.88               0.91     0.91      0.89   \n",
      "NearestCentroid                    0.90               0.89     0.89      0.90   \n",
      "ExtraTreeClassifier                0.88               0.88     0.88      0.88   \n",
      "BernoulliNB                        0.88               0.88     0.88      0.88   \n",
      "NuSVC                              0.88               0.82     0.82      0.88   \n",
      "DummyClassifier                    0.69               0.50     0.50      0.56   \n",
      "\n",
      "                               Time Taken  \n",
      "Model                                      \n",
      "AdaBoostClassifier                   0.10  \n",
      "XGBClassifier                        0.07  \n",
      "BaggingClassifier                    0.03  \n",
      "RandomForestClassifier               0.20  \n",
      "LinearSVC                            0.01  \n",
      "PassiveAggressiveClassifier          0.01  \n",
      "DecisionTreeClassifier               0.01  \n",
      "SGDClassifier                        0.02  \n",
      "GaussianNB                           0.01  \n",
      "QuadraticDiscriminantAnalysis        0.01  \n",
      "CalibratedClassifierCV               0.03  \n",
      "ExtraTreesClassifier                 0.10  \n",
      "LogisticRegression                   0.01  \n",
      "SVC                                  0.02  \n",
      "KNeighborsClassifier                 0.01  \n",
      "RidgeClassifier                      0.02  \n",
      "RidgeClassifierCV                    0.02  \n",
      "LabelSpreading                       0.01  \n",
      "LabelPropagation                     0.01  \n",
      "Perceptron                           0.01  \n",
      "LinearDiscriminantAnalysis           0.01  \n",
      "NearestCentroid                      0.01  \n",
      "ExtraTreeClassifier                  0.01  \n",
      "BernoulliNB                          0.01  \n",
      "NuSVC                                0.01  \n",
      "DummyClassifier                      0.01  \n"
     ]
    },
    {
     "name": "stderr",
     "output_type": "stream",
     "text": [
      "\n"
     ]
    }
   ],
   "source": [
    "#HDF\n",
    "X_train, X_test, y_train, y_test = train_test_split(q2_x, q2_y[\"HDF\"], test_size=.2, random_state =42)\n",
    "models,predictions = clf.fit(X_train, X_test, y_train, y_test)\n",
    "print(models)"
   ]
  },
  {
   "cell_type": "code",
   "execution_count": null,
   "id": "89640565",
   "metadata": {},
   "outputs": [],
   "source": []
  },
  {
   "cell_type": "code",
   "execution_count": 34,
   "id": "14b28018",
   "metadata": {},
   "outputs": [
    {
     "name": "stdout",
     "output_type": "stream",
     "text": [
      "'tuple' object has no attribute '__name__'\n",
      "Invalid Classifier(s)\n"
     ]
    },
    {
     "name": "stderr",
     "output_type": "stream",
     "text": [
      "100%|███████████████████████████████████████████| 28/28 [00:00<00:00, 39.60it/s]"
     ]
    },
    {
     "name": "stdout",
     "output_type": "stream",
     "text": [
      "                               Accuracy  Balanced Accuracy  ROC AUC  F1 Score  \\\n",
      "Model                                                                           \n",
      "PassiveAggressiveClassifier        0.99               0.99     0.99      0.99   \n",
      "AdaBoostClassifier                 0.97               0.95     0.95      0.97   \n",
      "ExtraTreesClassifier               0.97               0.95     0.95      0.97   \n",
      "QuadraticDiscriminantAnalysis      0.97               0.95     0.95      0.97   \n",
      "BaggingClassifier                  0.97               0.95     0.95      0.97   \n",
      "LinearSVC                          0.97               0.95     0.95      0.97   \n",
      "XGBClassifier                      0.96               0.94     0.94      0.96   \n",
      "KNeighborsClassifier               0.96               0.94     0.94      0.96   \n",
      "DecisionTreeClassifier             0.96               0.94     0.94      0.96   \n",
      "Perceptron                         0.94               0.93     0.93      0.94   \n",
      "SVC                                0.93               0.92     0.92      0.93   \n",
      "SGDClassifier                      0.93               0.92     0.92      0.93   \n",
      "RidgeClassifierCV                  0.97               0.92     0.92      0.97   \n",
      "LinearDiscriminantAnalysis         0.97               0.92     0.92      0.97   \n",
      "LogisticRegression                 0.97               0.92     0.92      0.97   \n",
      "RidgeClassifier                    0.97               0.92     0.92      0.97   \n",
      "CalibratedClassifierCV             0.96               0.91     0.91      0.96   \n",
      "RandomForestClassifier             0.94               0.90     0.90      0.94   \n",
      "NuSVC                              0.93               0.89     0.89      0.93   \n",
      "BernoulliNB                        0.91               0.88     0.88      0.91   \n",
      "LabelSpreading                     0.91               0.88     0.88      0.91   \n",
      "LabelPropagation                   0.91               0.88     0.88      0.91   \n",
      "ExtraTreeClassifier                0.91               0.85     0.85      0.91   \n",
      "NearestCentroid                    0.76               0.82     0.82      0.79   \n",
      "GaussianNB                         0.81               0.69     0.69      0.81   \n",
      "DummyClassifier                    0.82               0.50     0.50      0.74   \n",
      "\n",
      "                               Time Taken  \n",
      "Model                                      \n",
      "PassiveAggressiveClassifier          0.01  \n",
      "AdaBoostClassifier                   0.11  \n",
      "ExtraTreesClassifier                 0.11  \n",
      "QuadraticDiscriminantAnalysis        0.01  \n",
      "BaggingClassifier                    0.03  \n",
      "LinearSVC                            0.01  \n",
      "XGBClassifier                        0.07  \n",
      "KNeighborsClassifier                 0.01  \n",
      "DecisionTreeClassifier               0.01  \n",
      "Perceptron                           0.01  \n",
      "SVC                                  0.01  \n",
      "SGDClassifier                        0.01  \n",
      "RidgeClassifierCV                    0.01  \n",
      "LinearDiscriminantAnalysis           0.01  \n",
      "LogisticRegression                   0.01  \n",
      "RidgeClassifier                      0.01  \n",
      "CalibratedClassifierCV               0.04  \n",
      "RandomForestClassifier               0.13  \n",
      "NuSVC                                0.01  \n",
      "BernoulliNB                          0.01  \n",
      "LabelSpreading                       0.01  \n",
      "LabelPropagation                     0.01  \n",
      "ExtraTreeClassifier                  0.01  \n",
      "NearestCentroid                      0.01  \n",
      "GaussianNB                           0.01  \n",
      "DummyClassifier                      0.01  \n"
     ]
    },
    {
     "name": "stderr",
     "output_type": "stream",
     "text": [
      "\n"
     ]
    }
   ],
   "source": [
    "#PWF\n",
    "X_train, X_test, y_train, y_test = train_test_split(q2_x, q2_y[\"PWF\"], test_size=.2, random_state =42)\n",
    "models,predictions = clf.fit(X_train, X_test, y_train, y_test)\n",
    "print(models)"
   ]
  },
  {
   "cell_type": "code",
   "execution_count": null,
   "id": "bef37166",
   "metadata": {},
   "outputs": [],
   "source": []
  },
  {
   "cell_type": "code",
   "execution_count": 35,
   "id": "6b76a8c7",
   "metadata": {},
   "outputs": [
    {
     "name": "stdout",
     "output_type": "stream",
     "text": [
      "'tuple' object has no attribute '__name__'\n",
      "Invalid Classifier(s)\n"
     ]
    },
    {
     "name": "stderr",
     "output_type": "stream",
     "text": [
      "100%|███████████████████████████████████████████| 28/28 [00:00<00:00, 41.67it/s]"
     ]
    },
    {
     "name": "stdout",
     "output_type": "stream",
     "text": [
      "                               Accuracy  Balanced Accuracy  ROC AUC  F1 Score  \\\n",
      "Model                                                                           \n",
      "XGBClassifier                      1.00               1.00     1.00      1.00   \n",
      "RandomForestClassifier             0.99               0.99     0.99      0.99   \n",
      "AdaBoostClassifier                 0.99               0.98     0.98      0.99   \n",
      "QuadraticDiscriminantAnalysis      0.96               0.96     0.96      0.96   \n",
      "BaggingClassifier                  0.96               0.96     0.96      0.96   \n",
      "GaussianNB                         0.94               0.96     0.96      0.94   \n",
      "SVC                                0.94               0.92     0.92      0.94   \n",
      "BernoulliNB                        0.94               0.92     0.92      0.94   \n",
      "ExtraTreesClassifier               0.94               0.91     0.91      0.94   \n",
      "LogisticRegression                 0.93               0.91     0.91      0.93   \n",
      "KNeighborsClassifier               0.93               0.91     0.91      0.93   \n",
      "DecisionTreeClassifier             0.93               0.91     0.91      0.93   \n",
      "SGDClassifier                      0.91               0.91     0.91      0.91   \n",
      "RidgeClassifierCV                  0.93               0.90     0.90      0.93   \n",
      "RidgeClassifier                    0.93               0.90     0.90      0.93   \n",
      "CalibratedClassifierCV             0.93               0.90     0.90      0.93   \n",
      "LinearDiscriminantAnalysis         0.93               0.90     0.90      0.93   \n",
      "LinearSVC                          0.93               0.90     0.90      0.93   \n",
      "Perceptron                         0.88               0.88     0.88      0.88   \n",
      "PassiveAggressiveClassifier        0.90               0.86     0.86      0.89   \n",
      "LabelSpreading                     0.88               0.85     0.85      0.88   \n",
      "LabelPropagation                   0.88               0.85     0.85      0.88   \n",
      "NearestCentroid                    0.82               0.85     0.85      0.83   \n",
      "NuSVC                              0.85               0.80     0.80      0.85   \n",
      "ExtraTreeClassifier                0.84               0.79     0.79      0.83   \n",
      "DummyClassifier                    0.66               0.50     0.50      0.53   \n",
      "\n",
      "                               Time Taken  \n",
      "Model                                      \n",
      "XGBClassifier                        0.05  \n",
      "RandomForestClassifier               0.13  \n",
      "AdaBoostClassifier                   0.10  \n",
      "QuadraticDiscriminantAnalysis        0.01  \n",
      "BaggingClassifier                    0.03  \n",
      "GaussianNB                           0.01  \n",
      "SVC                                  0.01  \n",
      "BernoulliNB                          0.01  \n",
      "ExtraTreesClassifier                 0.10  \n",
      "LogisticRegression                   0.01  \n",
      "KNeighborsClassifier                 0.01  \n",
      "DecisionTreeClassifier               0.01  \n",
      "SGDClassifier                        0.01  \n",
      "RidgeClassifierCV                    0.01  \n",
      "RidgeClassifier                      0.01  \n",
      "CalibratedClassifierCV               0.04  \n",
      "LinearDiscriminantAnalysis           0.01  \n",
      "LinearSVC                            0.01  \n",
      "Perceptron                           0.01  \n",
      "PassiveAggressiveClassifier          0.01  \n",
      "LabelSpreading                       0.01  \n",
      "LabelPropagation                     0.01  \n",
      "NearestCentroid                      0.01  \n",
      "NuSVC                                0.01  \n",
      "ExtraTreeClassifier                  0.01  \n",
      "DummyClassifier                      0.01  \n"
     ]
    },
    {
     "name": "stderr",
     "output_type": "stream",
     "text": [
      "\n"
     ]
    }
   ],
   "source": [
    "#OSF\n",
    "X_train, X_test, y_train, y_test = train_test_split(q2_x, q2_y[\"OSF\"], test_size=.2, random_state =42)\n",
    "models,predictions = clf.fit(X_train, X_test, y_train, y_test)\n",
    "print(models)"
   ]
  },
  {
   "cell_type": "code",
   "execution_count": null,
   "id": "56ca0773",
   "metadata": {},
   "outputs": [],
   "source": [
    "def detect(data): \n",
    "    #twf = TWF_detector(data)\n",
    "    #hdf = HDF_detector(data)\n",
    "    #pwf = PWF_detector(data)\n",
    "    #osf = OSF_detector(data)\n",
    "    #return twf,hdf, pwf, osf\n",
    "\n",
    "# def get_broken(data): \n",
    "#     t,h,p,o = detect(data)\n",
    "#     print(\"TWF :{t}\")\n",
    "#     print(\"HDF :{h}\")\n",
    "#     print(\"PWF :{p}\")\n",
    "#     print(\"OSF :{o}\")"
   ]
  },
  {
   "cell_type": "code",
   "execution_count": null,
   "id": "93649c04",
   "metadata": {},
   "outputs": [],
   "source": []
  },
  {
   "cell_type": "code",
   "execution_count": null,
   "id": "617ac0d6",
   "metadata": {},
   "outputs": [],
   "source": []
  },
  {
   "cell_type": "markdown",
   "id": "c69f5ef0",
   "metadata": {},
   "source": [
    "# NN for Q1"
   ]
  },
  {
   "cell_type": "code",
   "execution_count": 209,
   "id": "8f593463",
   "metadata": {},
   "outputs": [],
   "source": [
    "import pandas as pd\n",
    "from sklearn.model_selection import train_test_split\n",
    "from sklearn.preprocessing import MinMaxScaler, OneHotEncoder\n",
    "\n",
    "# 将数据集划分为训练集和测试集\n",
    "#q2_y = q2_y.drop(['RNF'], axis=1)\n",
    "X_train, X_test, y_train, y_test = train_test_split(q1_x, q1_y, test_size=0.2, random_state=42)\n",
    "\n",
    "# 对所有特征进行归一化\n",
    "scaler = MinMaxScaler()\n",
    "X_train = scaler.fit_transform(X_train)\n",
    "X_test = scaler.transform(X_test)\n"
   ]
  },
  {
   "cell_type": "code",
   "execution_count": 60,
   "id": "385c358c",
   "metadata": {},
   "outputs": [
    {
     "name": "stdout",
     "output_type": "stream",
     "text": [
      "Epoch 1/100\n"
     ]
    },
    {
     "name": "stderr",
     "output_type": "stream",
     "text": [
      "2023-04-03 13:39:34.812703: I tensorflow/core/grappler/optimizers/custom_graph_optimizer_registry.cc:114] Plugin optimizer for device_type GPU is enabled.\n"
     ]
    },
    {
     "name": "stdout",
     "output_type": "stream",
     "text": [
      "249/250 [============================>.] - ETA: 0s - loss: 0.1894 - accuracy: 0.9635"
     ]
    },
    {
     "name": "stderr",
     "output_type": "stream",
     "text": [
      "2023-04-03 13:39:36.653149: I tensorflow/core/grappler/optimizers/custom_graph_optimizer_registry.cc:114] Plugin optimizer for device_type GPU is enabled.\n"
     ]
    },
    {
     "name": "stdout",
     "output_type": "stream",
     "text": [
      "250/250 [==============================] - 2s 8ms/step - loss: 0.1890 - accuracy: 0.9635 - val_loss: 0.1405 - val_accuracy: 0.9695\n",
      "Epoch 2/100\n",
      "250/250 [==============================] - 2s 7ms/step - loss: 0.1529 - accuracy: 0.9653 - val_loss: 0.1236 - val_accuracy: 0.9695\n",
      "Epoch 3/100\n",
      "250/250 [==============================] - 2s 7ms/step - loss: 0.1367 - accuracy: 0.9653 - val_loss: 0.1058 - val_accuracy: 0.9695\n",
      "Epoch 4/100\n",
      "250/250 [==============================] - 2s 7ms/step - loss: 0.1141 - accuracy: 0.9653 - val_loss: 0.0943 - val_accuracy: 0.9695\n",
      "Epoch 5/100\n",
      "250/250 [==============================] - 2s 7ms/step - loss: 0.1049 - accuracy: 0.9661 - val_loss: 0.0873 - val_accuracy: 0.9715\n",
      "Epoch 6/100\n",
      "250/250 [==============================] - 2s 7ms/step - loss: 0.1008 - accuracy: 0.9672 - val_loss: 0.0864 - val_accuracy: 0.9705\n",
      "Epoch 7/100\n",
      "250/250 [==============================] - 2s 7ms/step - loss: 0.0971 - accuracy: 0.9671 - val_loss: 0.0829 - val_accuracy: 0.9740\n",
      "Epoch 8/100\n",
      "250/250 [==============================] - 2s 7ms/step - loss: 0.0961 - accuracy: 0.9693 - val_loss: 0.0792 - val_accuracy: 0.9730\n",
      "Epoch 9/100\n",
      "250/250 [==============================] - 2s 7ms/step - loss: 0.0925 - accuracy: 0.9689 - val_loss: 0.0812 - val_accuracy: 0.9735\n",
      "Epoch 10/100\n",
      "250/250 [==============================] - 2s 7ms/step - loss: 0.0916 - accuracy: 0.9682 - val_loss: 0.0759 - val_accuracy: 0.9740\n",
      "Epoch 11/100\n",
      "250/250 [==============================] - 2s 7ms/step - loss: 0.0903 - accuracy: 0.9697 - val_loss: 0.0789 - val_accuracy: 0.9740\n",
      "Epoch 12/100\n",
      "250/250 [==============================] - 2s 7ms/step - loss: 0.0886 - accuracy: 0.9699 - val_loss: 0.0814 - val_accuracy: 0.9730\n",
      "Epoch 13/100\n",
      "250/250 [==============================] - 2s 7ms/step - loss: 0.0857 - accuracy: 0.9704 - val_loss: 0.0745 - val_accuracy: 0.9745\n",
      "Epoch 14/100\n",
      "250/250 [==============================] - 2s 7ms/step - loss: 0.0862 - accuracy: 0.9704 - val_loss: 0.0768 - val_accuracy: 0.9750\n",
      "Epoch 15/100\n",
      "250/250 [==============================] - 2s 7ms/step - loss: 0.0841 - accuracy: 0.9693 - val_loss: 0.0793 - val_accuracy: 0.9735\n",
      "Epoch 16/100\n",
      "250/250 [==============================] - 2s 7ms/step - loss: 0.0840 - accuracy: 0.9714 - val_loss: 0.0744 - val_accuracy: 0.9760\n",
      "Epoch 17/100\n",
      "250/250 [==============================] - 2s 7ms/step - loss: 0.0848 - accuracy: 0.9700 - val_loss: 0.0752 - val_accuracy: 0.9755\n",
      "Epoch 18/100\n",
      "250/250 [==============================] - 2s 7ms/step - loss: 0.0851 - accuracy: 0.9716 - val_loss: 0.0798 - val_accuracy: 0.9760\n",
      "Epoch 19/100\n",
      "250/250 [==============================] - 2s 7ms/step - loss: 0.0818 - accuracy: 0.9724 - val_loss: 0.0759 - val_accuracy: 0.9765\n"
     ]
    }
   ],
   "source": [
    "import tensorflow as tf\n",
    "from tensorflow.keras.models import Sequential\n",
    "from tensorflow.keras.layers import Dense, Dropout\n",
    "\n",
    "model = Sequential()\n",
    "model.add(Dense(32, input_dim=X_train.shape[1], activation='relu'))\n",
    "model.add(Dropout(0.2))\n",
    "model.add(Dense(64, activation='relu'))\n",
    "model.add(Dropout(0.2))\n",
    "model.add(Dense(128, activation='relu'))\n",
    "model.add(Dropout(0.2))\n",
    "model.add(Dense(64, activation='relu'))\n",
    "model.add(Dropout(0.2))\n",
    "model.add(Dense(32, activation='relu'))\n",
    "model.add(Dropout(0.2))\n",
    "model.add(Dense(1, activation='sigmoid'))\n",
    "\n",
    "model.compile(loss='binary_crossentropy', optimizer=tf.keras.optimizers.legacy.Adam(1e-3), metrics=['accuracy'])\n",
    "\n",
    "early_stopping = tf.keras.callbacks.EarlyStopping(monitor='val_loss', patience=3)\n",
    "\n",
    "history = model.fit(X_train, y_train, epochs=100, batch_size=32, validation_data=(X_test, y_test), callbacks=[early_stopping])\n"
   ]
  },
  {
   "cell_type": "code",
   "execution_count": 61,
   "id": "5734d670",
   "metadata": {},
   "outputs": [
    {
     "data": {
      "image/png": "[encoded data removed]",
      "text/plain": [
       "<Figure size 1600x1000 with 2 Axes>"
      ]
     },
     "metadata": {},
     "output_type": "display_data"
    }
   ],
   "source": [
    "import matplotlib.pyplot as plt\n",
    "\n",
    "loss = history.history['loss']\n",
    "val_loss = history.history['val_loss']\n",
    "acc = history.history['accuracy']\n",
    "val_acc = history.history['val_accuracy']\n",
    "epochs = range(1, len(loss)+1)\n",
    "\n",
    "# 畫損失函數圖\n",
    "plt.figure(figsize=(16, 10))\n",
    "plt.subplot(211)\n",
    "plt.plot(epochs, loss, label='traning loss')\n",
    "plt.plot(epochs, val_loss, label='validation loss')\n",
    "plt.title('training and validation loss')\n",
    "plt.xlabel('Epochs')\n",
    "plt.ylabel('Loss')\n",
    "plt.legend()\n",
    "\n",
    "# 畫準確率圖\n",
    "plt.subplot(212)\n",
    "plt.plot(epochs, acc, label='traning accuracy')\n",
    "plt.plot(epochs, val_acc, label='validation accuracy')\n",
    "plt.title('training and validation accuracy')\n",
    "plt.xlabel('Epochs')\n",
    "plt.ylabel('Accuracy')\n",
    "plt.legend()\n",
    "\n",
    "plt.show()"
   ]
  },
  {
   "cell_type": "code",
   "execution_count": 62,
   "id": "de024902",
   "metadata": {},
   "outputs": [],
   "source": [
    "model.save(\"Q1.h5\")"
   ]
  },
  {
   "cell_type": "code",
   "execution_count": 210,
   "id": "cfbacadd",
   "metadata": {},
   "outputs": [],
   "source": [
    "from tensorflow.keras.models import load_model\n",
    "\n",
    "model = load_model(\"Q1.h5\")"
   ]
  },
  {
   "cell_type": "code",
   "execution_count": 214,
   "id": "1e1da59f",
   "metadata": {},
   "outputs": [
    {
     "name": "stdout",
     "output_type": "stream",
     "text": [
      "63/63 [==============================] - 0s 3ms/step\n"
     ]
    },
    {
     "data": {
      "text/plain": [
       "<AxesSubplot: title={'center': 'Confusion Matrix'}>"
      ]
     },
     "execution_count": 214,
     "metadata": {},
     "output_type": "execute_result"
    },
    {
     "data": {
      "image/png": "[encoded data removed]",
      "text/plain": [
       "<Figure size 500x500 with 2 Axes>"
      ]
     },
     "metadata": {},
     "output_type": "display_data"
    }
   ],
   "source": [
    "# 预测测试集数据\n",
    "test_pred = model.predict(X_test)\n",
    "# 将预测结果转换为类别（0或1），使用0.5作为阈值\n",
    "test_pred_classes = (test_pred > 0.5).astype(int).flatten()\n",
    "\n",
    "# 计算并打印混淆矩阵\n",
    "#print(\"Confusion Matrix\")\n",
    "cf_mat = confusion_matrix(y_test, test_pred_classes)\n",
    "\n",
    "# 绘制归一化的混淆矩阵\n",
    "plt.figure(figsize=(5, 5))\n",
    "plt.title(f\"Confusion Matrix\")\n",
    "sns.heatmap(cf_mat / np.sum(cf_mat), annot=True, fmt=\".2%\", cmap=\"Blues\")\n"
   ]
  },
  {
   "cell_type": "code",
   "execution_count": 211,
   "id": "92dcd8fd",
   "metadata": {},
   "outputs": [
    {
     "name": "stdout",
     "output_type": "stream",
     "text": [
      "49/63 [======================>.......] - ETA: 0s"
     ]
    },
    {
     "name": "stderr",
     "output_type": "stream",
     "text": [
      "2023-04-03 19:32:12.693788: I tensorflow/core/grappler/optimizers/custom_graph_optimizer_registry.cc:114] Plugin optimizer for device_type GPU is enabled.\n"
     ]
    },
    {
     "name": "stdout",
     "output_type": "stream",
     "text": [
      "63/63 [==============================] - 0s 3ms/step\n",
      "              precision    recall  f1-score    support\n",
      "0              0.981670  0.994327  0.987958  1939.0000\n",
      "1              0.694444  0.409836  0.515464    61.0000\n",
      "accuracy       0.976500  0.976500  0.976500     0.9765\n",
      "macro avg      0.838057  0.702082  0.751711  2000.0000\n",
      "weighted avg   0.972910  0.976500  0.973547  2000.0000\n"
     ]
    }
   ],
   "source": [
    "from sklearn.metrics import classification_report\n",
    "\n",
    "# 在测试集上进行预测\n",
    "y_pred = model.predict(X_test)\n",
    "\n",
    "# 将预测结果转换为二进制标签（0或1），因为输出层使用了sigmoid激活函数\n",
    "y_pred_binary = (y_pred > 0.5).astype(int)\n",
    "\n",
    "# 生成评估报表\n",
    "report = classification_report(y_test, y_pred_binary, output_dict=True)\n",
    "report_df = pd.DataFrame(report).transpose()\n",
    "\n",
    "print(report_df)\n"
   ]
  },
  {
   "cell_type": "markdown",
   "id": "c4848750",
   "metadata": {},
   "source": [
    "# NN for Q2"
   ]
  },
  {
   "cell_type": "code",
   "execution_count": 105,
   "id": "6bbeb602",
   "metadata": {},
   "outputs": [],
   "source": [
    "q2_y = q2_y.drop(['RNF'], axis=1)"
   ]
  },
  {
   "cell_type": "code",
   "execution_count": 199,
   "id": "e3ece955",
   "metadata": {},
   "outputs": [],
   "source": [
    "import pandas as pd\n",
    "from sklearn.model_selection import train_test_split\n",
    "from sklearn.preprocessing import MinMaxScaler, OneHotEncoder\n",
    "\n",
    "# 将数据集划分为训练集和测试集\n",
    "#q2_y = q2_y.drop(['RNF'], axis=1)\n",
    "X_train, X_test, y_train, y_test = train_test_split(q2_x, q2_y, test_size=0.2, random_state=42)\n",
    "\n",
    "# 对所有特征进行归一化\n",
    "scaler = MinMaxScaler()\n",
    "X_train = scaler.fit_transform(X_train)\n",
    "X_test = scaler.transform(X_test)\n"
   ]
  },
  {
   "cell_type": "code",
   "execution_count": 200,
   "id": "4ea6fd5d",
   "metadata": {},
   "outputs": [
    {
     "name": "stdout",
     "output_type": "stream",
     "text": [
      "Epoch 1/100\n"
     ]
    },
    {
     "name": "stderr",
     "output_type": "stream",
     "text": [
      "2023-04-03 16:27:49.350535: I tensorflow/core/grappler/optimizers/custom_graph_optimizer_registry.cc:114] Plugin optimizer for device_type GPU is enabled.\n"
     ]
    },
    {
     "name": "stdout",
     "output_type": "stream",
     "text": [
      "9/9 [==============================] - ETA: 0s - loss: 0.6842 - accuracy: 0.2989"
     ]
    },
    {
     "name": "stderr",
     "output_type": "stream",
     "text": [
      "2023-04-03 16:27:51.203083: I tensorflow/core/grappler/optimizers/custom_graph_optimizer_registry.cc:114] Plugin optimizer for device_type GPU is enabled.\n"
     ]
    },
    {
     "name": "stdout",
     "output_type": "stream",
     "text": [
      "9/9 [==============================] - 2s 187ms/step - loss: 0.6842 - accuracy: 0.2989 - val_loss: 0.6581 - val_accuracy: 0.3088\n",
      "Epoch 2/100\n",
      "9/9 [==============================] - 0s 39ms/step - loss: 0.6480 - accuracy: 0.3469 - val_loss: 0.6129 - val_accuracy: 0.3088\n",
      "Epoch 3/100\n",
      "9/9 [==============================] - 0s 33ms/step - loss: 0.6035 - accuracy: 0.3026 - val_loss: 0.5774 - val_accuracy: 0.3088\n",
      "Epoch 4/100\n",
      "9/9 [==============================] - 0s 22ms/step - loss: 0.5762 - accuracy: 0.3506 - val_loss: 0.5623 - val_accuracy: 0.3088\n",
      "Epoch 5/100\n",
      "9/9 [==============================] - 0s 20ms/step - loss: 0.5623 - accuracy: 0.3579 - val_loss: 0.5631 - val_accuracy: 0.3088\n",
      "Epoch 6/100\n",
      "9/9 [==============================] - 0s 43ms/step - loss: 0.5458 - accuracy: 0.3764 - val_loss: 0.5623 - val_accuracy: 0.3088\n",
      "Epoch 7/100\n",
      "9/9 [==============================] - 0s 11ms/step - loss: 0.5360 - accuracy: 0.4317 - val_loss: 0.5551 - val_accuracy: 0.3824\n",
      "Epoch 8/100\n",
      "9/9 [==============================] - 0s 22ms/step - loss: 0.5269 - accuracy: 0.4797 - val_loss: 0.5343 - val_accuracy: 0.5441\n",
      "Epoch 9/100\n",
      "9/9 [==============================] - 0s 10ms/step - loss: 0.5147 - accuracy: 0.4649 - val_loss: 0.5041 - val_accuracy: 0.5588\n",
      "Epoch 10/100\n",
      "9/9 [==============================] - 0s 11ms/step - loss: 0.5005 - accuracy: 0.5683 - val_loss: 0.4751 - val_accuracy: 0.6471\n",
      "Epoch 11/100\n",
      "9/9 [==============================] - 0s 11ms/step - loss: 0.4592 - accuracy: 0.6421 - val_loss: 0.4428 - val_accuracy: 0.6471\n",
      "Epoch 12/100\n",
      "9/9 [==============================] - 0s 16ms/step - loss: 0.4199 - accuracy: 0.6089 - val_loss: 0.4096 - val_accuracy: 0.6471\n",
      "Epoch 13/100\n",
      "9/9 [==============================] - 0s 10ms/step - loss: 0.3976 - accuracy: 0.6384 - val_loss: 0.3835 - val_accuracy: 0.6029\n",
      "Epoch 14/100\n",
      "9/9 [==============================] - 0s 10ms/step - loss: 0.3973 - accuracy: 0.6494 - val_loss: 0.3775 - val_accuracy: 0.6176\n",
      "Epoch 15/100\n",
      "9/9 [==============================] - 0s 14ms/step - loss: 0.3488 - accuracy: 0.7085 - val_loss: 0.3499 - val_accuracy: 0.6176\n",
      "Epoch 16/100\n",
      "9/9 [==============================] - 0s 10ms/step - loss: 0.3480 - accuracy: 0.7011 - val_loss: 0.3432 - val_accuracy: 0.6324\n",
      "Epoch 17/100\n",
      "9/9 [==============================] - 0s 10ms/step - loss: 0.3338 - accuracy: 0.7269 - val_loss: 0.3451 - val_accuracy: 0.6029\n",
      "Epoch 18/100\n",
      "9/9 [==============================] - 0s 14ms/step - loss: 0.3214 - accuracy: 0.7417 - val_loss: 0.3366 - val_accuracy: 0.6324\n",
      "Epoch 19/100\n",
      "9/9 [==============================] - 0s 10ms/step - loss: 0.3052 - accuracy: 0.7343 - val_loss: 0.3203 - val_accuracy: 0.6176\n",
      "Epoch 20/100\n",
      "9/9 [==============================] - 0s 14ms/step - loss: 0.3088 - accuracy: 0.7196 - val_loss: 0.3379 - val_accuracy: 0.5882\n",
      "Epoch 21/100\n",
      "9/9 [==============================] - 0s 10ms/step - loss: 0.3099 - accuracy: 0.7048 - val_loss: 0.3059 - val_accuracy: 0.6765\n",
      "Epoch 22/100\n",
      "9/9 [==============================] - 0s 10ms/step - loss: 0.3033 - accuracy: 0.7343 - val_loss: 0.3301 - val_accuracy: 0.6324\n",
      "Epoch 23/100\n",
      "9/9 [==============================] - 0s 10ms/step - loss: 0.2784 - accuracy: 0.7638 - val_loss: 0.3142 - val_accuracy: 0.6471\n",
      "Epoch 24/100\n",
      "9/9 [==============================] - 0s 10ms/step - loss: 0.2636 - accuracy: 0.7601 - val_loss: 0.2989 - val_accuracy: 0.6618\n",
      "Epoch 25/100\n",
      "9/9 [==============================] - 0s 16ms/step - loss: 0.2940 - accuracy: 0.7454 - val_loss: 0.3111 - val_accuracy: 0.6471\n",
      "Epoch 26/100\n",
      "9/9 [==============================] - 0s 13ms/step - loss: 0.2714 - accuracy: 0.7675 - val_loss: 0.3004 - val_accuracy: 0.6618\n",
      "Epoch 27/100\n",
      "9/9 [==============================] - 0s 23ms/step - loss: 0.2611 - accuracy: 0.7712 - val_loss: 0.2951 - val_accuracy: 0.6618\n",
      "Epoch 28/100\n",
      "9/9 [==============================] - 0s 27ms/step - loss: 0.2493 - accuracy: 0.7712 - val_loss: 0.2896 - val_accuracy: 0.6765\n",
      "Epoch 29/100\n",
      "9/9 [==============================] - 0s 11ms/step - loss: 0.2411 - accuracy: 0.7638 - val_loss: 0.2939 - val_accuracy: 0.6324\n",
      "Epoch 30/100\n",
      "9/9 [==============================] - 0s 10ms/step - loss: 0.2418 - accuracy: 0.7786 - val_loss: 0.2789 - val_accuracy: 0.6618\n",
      "Epoch 31/100\n",
      "9/9 [==============================] - 0s 10ms/step - loss: 0.2258 - accuracy: 0.7934 - val_loss: 0.2747 - val_accuracy: 0.7059\n",
      "Epoch 32/100\n",
      "9/9 [==============================] - 0s 10ms/step - loss: 0.2349 - accuracy: 0.7823 - val_loss: 0.2659 - val_accuracy: 0.7059\n",
      "Epoch 33/100\n",
      "9/9 [==============================] - 0s 11ms/step - loss: 0.2259 - accuracy: 0.7823 - val_loss: 0.2695 - val_accuracy: 0.7353\n",
      "Epoch 34/100\n",
      "9/9 [==============================] - 0s 10ms/step - loss: 0.2349 - accuracy: 0.7934 - val_loss: 0.2541 - val_accuracy: 0.7500\n",
      "Epoch 35/100\n",
      "9/9 [==============================] - 0s 11ms/step - loss: 0.2054 - accuracy: 0.8413 - val_loss: 0.2760 - val_accuracy: 0.7206\n",
      "Epoch 36/100\n",
      "9/9 [==============================] - 0s 10ms/step - loss: 0.2132 - accuracy: 0.8155 - val_loss: 0.2479 - val_accuracy: 0.7353\n",
      "Epoch 37/100\n",
      "9/9 [==============================] - 0s 21ms/step - loss: 0.2089 - accuracy: 0.8229 - val_loss: 0.2542 - val_accuracy: 0.7206\n",
      "Epoch 38/100\n",
      "9/9 [==============================] - 0s 12ms/step - loss: 0.2052 - accuracy: 0.8192 - val_loss: 0.2357 - val_accuracy: 0.7353\n",
      "Epoch 39/100\n",
      "9/9 [==============================] - 0s 10ms/step - loss: 0.2147 - accuracy: 0.8118 - val_loss: 0.2335 - val_accuracy: 0.8235\n",
      "Epoch 40/100\n",
      "9/9 [==============================] - 0s 10ms/step - loss: 0.2003 - accuracy: 0.8229 - val_loss: 0.2312 - val_accuracy: 0.7647\n",
      "Epoch 41/100\n",
      "9/9 [==============================] - 0s 10ms/step - loss: 0.1934 - accuracy: 0.8266 - val_loss: 0.2170 - val_accuracy: 0.7794\n",
      "Epoch 42/100\n",
      "9/9 [==============================] - 0s 10ms/step - loss: 0.1734 - accuracy: 0.8413 - val_loss: 0.2203 - val_accuracy: 0.7500\n",
      "Epoch 43/100\n",
      "9/9 [==============================] - 0s 10ms/step - loss: 0.1690 - accuracy: 0.8524 - val_loss: 0.2188 - val_accuracy: 0.7500\n",
      "Epoch 44/100\n",
      "9/9 [==============================] - 0s 11ms/step - loss: 0.1886 - accuracy: 0.8376 - val_loss: 0.2129 - val_accuracy: 0.7941\n",
      "Epoch 45/100\n",
      "9/9 [==============================] - 0s 10ms/step - loss: 0.1794 - accuracy: 0.8487 - val_loss: 0.2088 - val_accuracy: 0.7794\n",
      "Epoch 46/100\n",
      "9/9 [==============================] - 0s 10ms/step - loss: 0.1663 - accuracy: 0.8561 - val_loss: 0.2051 - val_accuracy: 0.7794\n",
      "Epoch 47/100\n",
      "9/9 [==============================] - 0s 10ms/step - loss: 0.1753 - accuracy: 0.8782 - val_loss: 0.1987 - val_accuracy: 0.8088\n",
      "Epoch 48/100\n",
      "9/9 [==============================] - 0s 10ms/step - loss: 0.1800 - accuracy: 0.8450 - val_loss: 0.2091 - val_accuracy: 0.8235\n",
      "Epoch 49/100\n",
      "9/9 [==============================] - 0s 10ms/step - loss: 0.1505 - accuracy: 0.8745 - val_loss: 0.1849 - val_accuracy: 0.8088\n",
      "Epoch 50/100\n",
      "9/9 [==============================] - 0s 10ms/step - loss: 0.1511 - accuracy: 0.8893 - val_loss: 0.1898 - val_accuracy: 0.8382\n",
      "Epoch 51/100\n",
      "9/9 [==============================] - 0s 10ms/step - loss: 0.1568 - accuracy: 0.8745 - val_loss: 0.1857 - val_accuracy: 0.8382\n",
      "Epoch 52/100\n",
      "9/9 [==============================] - 0s 16ms/step - loss: 0.1378 - accuracy: 0.8930 - val_loss: 0.1779 - val_accuracy: 0.8235\n",
      "Epoch 53/100\n",
      "9/9 [==============================] - 0s 10ms/step - loss: 0.1475 - accuracy: 0.8893 - val_loss: 0.1819 - val_accuracy: 0.8382\n",
      "Epoch 54/100\n",
      "9/9 [==============================] - 0s 10ms/step - loss: 0.1533 - accuracy: 0.8561 - val_loss: 0.1753 - val_accuracy: 0.8088\n",
      "Epoch 55/100\n",
      "9/9 [==============================] - 0s 11ms/step - loss: 0.1427 - accuracy: 0.8856 - val_loss: 0.1855 - val_accuracy: 0.8235\n",
      "Epoch 56/100\n",
      "9/9 [==============================] - 0s 10ms/step - loss: 0.1558 - accuracy: 0.8672 - val_loss: 0.1853 - val_accuracy: 0.8382\n",
      "Epoch 57/100\n",
      "9/9 [==============================] - 0s 10ms/step - loss: 0.1509 - accuracy: 0.8708 - val_loss: 0.1849 - val_accuracy: 0.8824\n"
     ]
    }
   ],
   "source": [
    "import tensorflow as tf\n",
    "from tensorflow.keras.models import Sequential\n",
    "from tensorflow.keras.layers import Dense, Dropout\n",
    "\n",
    "model = Sequential()\n",
    "model.add(Dense(32, input_dim=X_train.shape[1], activation='relu'))\n",
    "model.add(Dropout(0.2))\n",
    "model.add(Dense(64, activation='relu'))\n",
    "model.add(Dropout(0.2))\n",
    "model.add(Dense(128, activation='relu'))\n",
    "model.add(Dropout(0.2))\n",
    "model.add(Dense(64, activation='relu'))\n",
    "model.add(Dropout(0.2))\n",
    "model.add(Dense(32, activation='relu'))\n",
    "model.add(Dropout(0.2))\n",
    "model.add(Dense(4, activation='sigmoid'))\n",
    "\n",
    "model.compile(loss='binary_crossentropy', optimizer=tf.keras.optimizers.legacy.Adam(1e-3), metrics=['accuracy'])\n",
    "\n",
    "early_stopping = tf.keras.callbacks.EarlyStopping(monitor='val_loss', patience=3)\n",
    "\n",
    "history = model.fit(X_train, y_train, epochs=100, batch_size=32, validation_data=(X_test, y_test), callbacks=[early_stopping])\n"
   ]
  },
  {
   "cell_type": "code",
   "execution_count": 201,
   "id": "38417de2",
   "metadata": {},
   "outputs": [
    {
     "data": {
      "image/png": "[encoded data removed]",
      "text/plain": [
       "<Figure size 1600x1000 with 2 Axes>"
      ]
     },
     "metadata": {},
     "output_type": "display_data"
    }
   ],
   "source": [
    "import matplotlib.pyplot as plt\n",
    "\n",
    "loss = history.history['loss']\n",
    "val_loss = history.history['val_loss']\n",
    "acc = history.history['accuracy']\n",
    "val_acc = history.history['val_accuracy']\n",
    "epochs = range(1, len(loss)+1)\n",
    "\n",
    "# 畫損失函數圖\n",
    "plt.figure(figsize=(16, 10))\n",
    "plt.subplot(211)\n",
    "plt.plot(epochs, loss, label='traning loss')\n",
    "plt.plot(epochs, val_loss, label='validation loss')\n",
    "plt.title('training and validation loss')\n",
    "plt.xlabel('Epochs')\n",
    "plt.ylabel('Loss')\n",
    "plt.legend()\n",
    "\n",
    "# 畫準確率圖\n",
    "plt.subplot(212)\n",
    "plt.plot(epochs, acc, label='traning accuracy')\n",
    "plt.plot(epochs, val_acc, label='validation accuracy')\n",
    "plt.title('training and validation accuracy')\n",
    "plt.xlabel('Epochs')\n",
    "plt.ylabel('Accuracy')\n",
    "plt.legend()\n",
    "\n",
    "plt.show()"
   ]
  },
  {
   "cell_type": "code",
   "execution_count": 203,
   "id": "0cf3cfd4",
   "metadata": {},
   "outputs": [],
   "source": [
    "model.save(\"Q2.h5\")"
   ]
  },
  {
   "cell_type": "code",
   "execution_count": 204,
   "id": "0604513d",
   "metadata": {},
   "outputs": [],
   "source": [
    "from tensorflow.keras.models import load_model\n",
    "\n",
    "model = load_model(\"Q2.h5\")"
   ]
  },
  {
   "cell_type": "code",
   "execution_count": 208,
   "id": "caaff4e5",
   "metadata": {},
   "outputs": [
    {
     "name": "stdout",
     "output_type": "stream",
     "text": [
      "3/3 [==============================] - 0s 15ms/step\n"
     ]
    },
    {
     "data": {
      "image/png": "[encoded data removed]",
      "text/plain": [
       "<Figure size 400x400 with 2 Axes>"
      ]
     },
     "metadata": {},
     "output_type": "display_data"
    },
    {
     "data": {
      "image/png": "[encoded data removed]",
      "text/plain": [
       "<Figure size 400x400 with 2 Axes>"
      ]
     },
     "metadata": {},
     "output_type": "display_data"
    },
    {
     "data": {
      "image/png": "[encoded data removed]",
      "text/plain": [
       "<Figure size 400x400 with 2 Axes>"
      ]
     },
     "metadata": {},
     "output_type": "display_data"
    },
    {
     "data": {
      "image/png": "[encoded data removed]",
      "text/plain": [
       "<Figure size 400x400 with 2 Axes>"
      ]
     },
     "metadata": {},
     "output_type": "display_data"
    }
   ],
   "source": [
    "import numpy as np\n",
    "import matplotlib.pyplot as plt\n",
    "import seaborn as sns\n",
    "from sklearn.metrics import confusion_matrix\n",
    "\n",
    "# 使用模型进行预测\n",
    "y_pred = model.predict(X_test)\n",
    "\n",
    "# 将预测结果转换为二进制形式（阈值为0.5）\n",
    "y_pred_binary = np.where(y_pred > 0.5, 1, 0)\n",
    "\n",
    "# 计算并绘制每个类别的混淆矩阵\n",
    "class_names = ['TWF', 'HDF', 'PWF', 'OSF']\n",
    "\n",
    "for i, class_name in enumerate(class_names):\n",
    "    plt.figure(figsize=(4, 4))\n",
    "    cf_mat = confusion_matrix(y_test.iloc[:, i], y_pred_binary[:, i])\n",
    "    sns.heatmap(cf_mat / np.sum(cf_mat), annot=True, fmt='.2%', cmap='Blues')\n",
    "    plt.xlabel(\"Predicted\")\n",
    "    plt.ylabel(\"Actual\")\n",
    "    plt.title(f\"Confusion Matrix for {class_name}\")\n",
    "    plt.show()\n"
   ]
  },
  {
   "cell_type": "code",
   "execution_count": 205,
   "id": "31dd6136",
   "metadata": {},
   "outputs": [
    {
     "name": "stdout",
     "output_type": "stream",
     "text": [
      "3/3 [==============================] - 0s 23ms/step\n",
      "              precision    recall  f1-score   support\n",
      "\n",
      "         TWF       1.00      0.80      0.89        15\n",
      "         HDF       0.84      1.00      0.91        21\n",
      "         PWF       0.92      0.92      0.92        12\n",
      "         OSF       0.95      0.78      0.86        23\n",
      "\n",
      "   micro avg       0.91      0.87      0.89        71\n",
      "   macro avg       0.93      0.87      0.89        71\n",
      "weighted avg       0.92      0.87      0.89        71\n",
      " samples avg       0.89      0.86      0.87        71\n",
      "\n"
     ]
    },
    {
     "name": "stderr",
     "output_type": "stream",
     "text": [
      "2023-04-03 16:28:34.706233: I tensorflow/core/grappler/optimizers/custom_graph_optimizer_registry.cc:114] Plugin optimizer for device_type GPU is enabled.\n",
      "/Users/LeoSu/miniforge3/envs/tf/lib/python3.10/site-packages/sklearn/metrics/_classification.py:1344: UndefinedMetricWarning: Precision and F-score are ill-defined and being set to 0.0 in samples with no predicted labels. Use `zero_division` parameter to control this behavior.\n",
      "  _warn_prf(average, modifier, msg_start, len(result))\n",
      "/Users/LeoSu/miniforge3/envs/tf/lib/python3.10/site-packages/sklearn/metrics/_classification.py:1344: UndefinedMetricWarning: Recall and F-score are ill-defined and being set to 0.0 in samples with no true labels. Use `zero_division` parameter to control this behavior.\n",
      "  _warn_prf(average, modifier, msg_start, len(result))\n"
     ]
    }
   ],
   "source": [
    "from sklearn.metrics import classification_report\n",
    "\n",
    "# 在测试集上进行预测\n",
    "y_pred = model.predict(X_test)\n",
    "\n",
    "# 将预测结果转换为二进制标签（0或1），因为输出层使用了sigmoid激活函数\n",
    "y_pred_binary = (y_pred > 0.5).astype(int)\n",
    "\n",
    "# 生成评估报告\n",
    "report = classification_report(y_test, y_pred_binary, target_names=['TWF', 'HDF', 'PWF', 'OSF'])\n",
    "\n",
    "print(report)"
   ]
  },
  {
   "cell_type": "code",
   "execution_count": null,
   "id": "2e61226d",
   "metadata": {},
   "outputs": [],
   "source": []
  }
 ],
 "metadata": {
  "kernelspec": {
   "display_name": "Python 3 (ipykernel)",
   "language": "python",
   "name": "python3"
  },
  "language_info": {
   "codemirror_mode": {
    "name": "ipython",
    "version": 3
   },
   "file_extension": ".py",
   "mimetype": "text/x-python",
   "name": "python",
   "nbconvert_exporter": "python",
   "pygments_lexer": "ipython3",
   "version": "3.10.10"
  }
 },
 "nbformat": 4,
 "nbformat_minor": 5
}
